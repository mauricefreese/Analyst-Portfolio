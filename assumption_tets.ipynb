{
 "cells": [
  {
   "cell_type": "markdown",
   "id": "8bab9e47-2779-42e0-a70b-4fc90f77f181",
   "metadata": {},
   "source": [
    "I will be investigating the impact of SARS-CoV-2, or covid-19, on consumer uncertainty."
   ]
  },
  {
   "cell_type": "markdown",
   "id": "01957289-2d66-4678-a7ae-66d411b6b75b",
   "metadata": {},
   "source": [
    "- cci - Consumer Confidence Index (CCI) - a monthly survey by The Conference Board that measures how optimistic or pessimistic consumers are regarding financial situations, both current and expected. Administered via survery. Leading indicator reflecting U.S. economic conditions, major purchases, consumer view of economy, business conditions, and labor market currently and over the next six months. Two parts of this index is the current expectations and future expectations </br>\n",
    "    -1985=100 </br>\n",
    "            -- cci > 100: consumers are optimistic = more spending</br>\n",
    "            -- cci < 100: consumers are optimistic = less spending</br>\n",
    "            -- cci < 100: consumers are optimistic = less spending</br>\n",
    "Released on the last Tuesday of every month."
   ]
  },
  {
   "cell_type": "markdown",
   "id": "bcaebbcc-aa75-4bb5-932c-fba6a73cd00b",
   "metadata": {},
   "source": [
    "- cci_cur - CCI Current Expectations component"
   ]
  },
  {
   "cell_type": "markdown",
   "id": "dacf2b30-b697-4b5d-9738-4cf0e0a582b4",
   "metadata": {},
   "source": [
    "- cci_exp - CCI Future Expectations component"
   ]
  },
  {
   "cell_type": "markdown",
   "id": "7b054e8f-fbdd-4e12-81e4-98e96315d8d0",
   "metadata": {},
   "source": [
    "- umsent - Michigan Consumer Sentiment Index (MCSI) -- a monthly report of consumer confidence levels in the U.S. conducted by the UMICH. Survey results collected via telephone interviews. Also a lead indicator. Differs from CCI in that CCI places more weight on employment and labor market while MCSI focuses primarily on households and future expectations is at 12 months instead of 6 months.</br>\n",
    "        - same index number scale</br>\n",
    "Released on the second Friday of each month.        "
   ]
  },
  {
   "cell_type": "markdown",
   "id": "6286906e-e09e-4d83-a5ad-06e0cfcd4b46",
   "metadata": {},
   "source": [
    "- umsent_cur - MCSI Current Expectations component"
   ]
  },
  {
   "cell_type": "markdown",
   "id": "5e4155b0-ee1c-421f-87be-1e9157c2467a",
   "metadata": {},
   "source": [
    "- umsent_exp - MCSI Future Expectations component"
   ]
  },
  {
   "cell_type": "markdown",
   "id": "8559dd65-8b84-412d-8f7d-518fe09ac625",
   "metadata": {},
   "source": [
    "- ism_man - ISM Manufacturing Index or Manufacturing Purchasing Managers' Index (PMI) -- reflects the demand level of goods  by the amount of ordering activity from factories. Index of new orders, production, employment, supplier deliveries, and inventories. </br>\n",
    "        -- Manufacturing PMI > 50 = expanding manufacturing segment compared to last month</br>\n",
    "        -- Manufacturing PMI < 50 = contracting \"   \"</br>\n",
    "This is released on the first business day of each month, so can influence CCI and MCSI."
   ]
  },
  {
   "cell_type": "markdown",
   "id": "80ea6192-47fb-4eb1-af4a-df4252bce896",
   "metadata": {},
   "source": [
    "- ism_non - ISM Non-Manufacturing Index or Non-Manufacturing Purchings Managers' Index (PMI) -- surveys purchasing and supply executives, caputring 15 different (service) industries. Indexes business acitivity, new ordres, employment trends, inventories, and prices.</br>\n",
    "        -- Finance and Insurance, Agriculture, Retail Trade, Ulilities, Educational Services, etcs.</br>\n",
    "Released on the third business day of the month."
   ]
  },
  {
   "cell_type": "markdown",
   "id": "04b9eb1b-df6d-4015-90ad-bbc131bd0d28",
   "metadata": {},
   "source": [
    "OLS ASSUMTIONS:</br>\n",
    "[1] The regression model is linear in the coefficients and the error term.</br>\n",
    "[2] The error term has a population mean of zero.</br>\n",
    "[3] All independent variables are unncorrelated with the error term.</br>\n",
    "[4] Observations of the error term are uncorrelated with each other.</br>\n",
    "[5] The error term has a constant variance (no heteroscedasticity).</br>\n",
    "[6] No independent variable is a perfect linear function of other explanatory variables.</br>\n",
    "[7] The error term is normall distributed."
   ]
  },
  {
   "cell_type": "code",
   "execution_count": 2,
   "id": "c76a69ed-db97-4b22-b0b7-3db7ed9fde91",
   "metadata": {},
   "outputs": [],
   "source": [
    "# libraries \n",
    "import numpy as np\n",
    "import statsmodels.api as sm\n",
    "import pandas as pd\n",
    "import statsmodels.formula.api as smf\n",
    "from statsmodels.tsa.ar_model import AutoReg\n",
    "from statsmodels.tsa.stattools import adfuller\n",
    "from statsmodels.compat import lzip\n",
    "import statsmodels.stats.api as sms\n",
    "from sklearn.linear_model import LinearRegression\n",
    "from statsmodels.stats.diagnostic import het_white\n",
    "from statsmodels.graphics.api import interaction_plot, abline_plot\n",
    "from statsmodels.stats.anova import anova_lm\n",
    "from statsmodels.graphics.tsaplots import plot_pacf\n",
    "from scipy import stats\n",
    "import statsmodels\n",
    "import matplotlib.pyplot as plt\n",
    "from matplotlib import pyplot as plt\n",
    "import seaborn as sns"
   ]
  },
  {
   "cell_type": "code",
   "execution_count": 5,
   "id": "ba6971fb-3262-4f94-acc2-4e684d995479",
   "metadata": {},
   "outputs": [
    {
     "data": {
      "text/html": [
       "<div>\n",
       "<style scoped>\n",
       "    .dataframe tbody tr th:only-of-type {\n",
       "        vertical-align: middle;\n",
       "    }\n",
       "\n",
       "    .dataframe tbody tr th {\n",
       "        vertical-align: top;\n",
       "    }\n",
       "\n",
       "    .dataframe thead th {\n",
       "        text-align: right;\n",
       "    }\n",
       "</style>\n",
       "<table border=\"1\" class=\"dataframe\">\n",
       "  <thead>\n",
       "    <tr style=\"text-align: right;\">\n",
       "      <th></th>\n",
       "      <th>date</th>\n",
       "      <th>total_cases</th>\n",
       "      <th>new_cases</th>\n",
       "      <th>new_cases_smoothed</th>\n",
       "      <th>total_deaths</th>\n",
       "      <th>new_deaths</th>\n",
       "      <th>positive_rate</th>\n",
       "      <th>stringency_index</th>\n",
       "      <th>cci</th>\n",
       "      <th>cci_cur</th>\n",
       "      <th>cci_exp</th>\n",
       "      <th>umsent</th>\n",
       "      <th>umsent_cur</th>\n",
       "      <th>umsent_exp</th>\n",
       "      <th>ism_man</th>\n",
       "      <th>ism_non</th>\n",
       "      <th>cci_lag1</th>\n",
       "      <th>cci_lag2</th>\n",
       "      <th>cci_lag3</th>\n",
       "      <th>cci_lag4</th>\n",
       "      <th>cci_lag5</th>\n",
       "      <th>total_cases_lag1</th>\n",
       "      <th>total_cases_lag2</th>\n",
       "      <th>total_deaths_lag1</th>\n",
       "      <th>total_deaths_lag2</th>\n",
       "    </tr>\n",
       "  </thead>\n",
       "  <tbody>\n",
       "    <tr>\n",
       "      <th>366</th>\n",
       "      <td>7/1/97</td>\n",
       "      <td>0</td>\n",
       "      <td>0</td>\n",
       "      <td>0.0</td>\n",
       "      <td>0</td>\n",
       "      <td>0</td>\n",
       "      <td>0.0</td>\n",
       "      <td>0.0</td>\n",
       "      <td>126.3</td>\n",
       "      <td>154.5</td>\n",
       "      <td>107.6</td>\n",
       "      <td>107.1</td>\n",
       "      <td>114.0</td>\n",
       "      <td>102.6</td>\n",
       "      <td>57.7</td>\n",
       "      <td>56.7</td>\n",
       "      <td>129.9</td>\n",
       "      <td>127.9</td>\n",
       "      <td>118.5</td>\n",
       "      <td>118.5</td>\n",
       "      <td>118.9</td>\n",
       "      <td>0</td>\n",
       "      <td>0</td>\n",
       "      <td>0</td>\n",
       "      <td>0</td>\n",
       "    </tr>\n",
       "    <tr>\n",
       "      <th>367</th>\n",
       "      <td>8/1/97</td>\n",
       "      <td>0</td>\n",
       "      <td>0</td>\n",
       "      <td>0.0</td>\n",
       "      <td>0</td>\n",
       "      <td>0</td>\n",
       "      <td>0.0</td>\n",
       "      <td>0.0</td>\n",
       "      <td>127.6</td>\n",
       "      <td>156.1</td>\n",
       "      <td>108.7</td>\n",
       "      <td>104.4</td>\n",
       "      <td>110.7</td>\n",
       "      <td>100.3</td>\n",
       "      <td>56.3</td>\n",
       "      <td>62.0</td>\n",
       "      <td>126.3</td>\n",
       "      <td>129.9</td>\n",
       "      <td>127.9</td>\n",
       "      <td>118.5</td>\n",
       "      <td>118.5</td>\n",
       "      <td>0</td>\n",
       "      <td>0</td>\n",
       "      <td>0</td>\n",
       "      <td>0</td>\n",
       "    </tr>\n",
       "    <tr>\n",
       "      <th>368</th>\n",
       "      <td>9/1/97</td>\n",
       "      <td>0</td>\n",
       "      <td>0</td>\n",
       "      <td>0.0</td>\n",
       "      <td>0</td>\n",
       "      <td>0</td>\n",
       "      <td>0.0</td>\n",
       "      <td>0.0</td>\n",
       "      <td>130.2</td>\n",
       "      <td>157.6</td>\n",
       "      <td>111.9</td>\n",
       "      <td>106.0</td>\n",
       "      <td>114.1</td>\n",
       "      <td>100.7</td>\n",
       "      <td>53.9</td>\n",
       "      <td>56.2</td>\n",
       "      <td>127.6</td>\n",
       "      <td>126.3</td>\n",
       "      <td>129.9</td>\n",
       "      <td>127.9</td>\n",
       "      <td>118.5</td>\n",
       "      <td>0</td>\n",
       "      <td>0</td>\n",
       "      <td>0</td>\n",
       "      <td>0</td>\n",
       "    </tr>\n",
       "    <tr>\n",
       "      <th>369</th>\n",
       "      <td>10/1/97</td>\n",
       "      <td>0</td>\n",
       "      <td>0</td>\n",
       "      <td>0.0</td>\n",
       "      <td>0</td>\n",
       "      <td>0</td>\n",
       "      <td>0.0</td>\n",
       "      <td>0.0</td>\n",
       "      <td>123.4</td>\n",
       "      <td>147.5</td>\n",
       "      <td>107.3</td>\n",
       "      <td>105.6</td>\n",
       "      <td>109.8</td>\n",
       "      <td>102.8</td>\n",
       "      <td>56.4</td>\n",
       "      <td>56.6</td>\n",
       "      <td>130.2</td>\n",
       "      <td>127.6</td>\n",
       "      <td>126.3</td>\n",
       "      <td>129.9</td>\n",
       "      <td>127.9</td>\n",
       "      <td>0</td>\n",
       "      <td>0</td>\n",
       "      <td>0</td>\n",
       "      <td>0</td>\n",
       "    </tr>\n",
       "    <tr>\n",
       "      <th>370</th>\n",
       "      <td>11/1/97</td>\n",
       "      <td>0</td>\n",
       "      <td>0</td>\n",
       "      <td>0.0</td>\n",
       "      <td>0</td>\n",
       "      <td>0</td>\n",
       "      <td>0.0</td>\n",
       "      <td>0.0</td>\n",
       "      <td>128.1</td>\n",
       "      <td>156.8</td>\n",
       "      <td>108.9</td>\n",
       "      <td>107.2</td>\n",
       "      <td>114.9</td>\n",
       "      <td>102.3</td>\n",
       "      <td>55.7</td>\n",
       "      <td>58.5</td>\n",
       "      <td>123.4</td>\n",
       "      <td>130.2</td>\n",
       "      <td>127.6</td>\n",
       "      <td>126.3</td>\n",
       "      <td>129.9</td>\n",
       "      <td>0</td>\n",
       "      <td>0</td>\n",
       "      <td>0</td>\n",
       "      <td>0</td>\n",
       "    </tr>\n",
       "  </tbody>\n",
       "</table>\n",
       "</div>"
      ],
      "text/plain": [
       "        date  total_cases  new_cases  new_cases_smoothed  total_deaths  \\\n",
       "366   7/1/97            0          0                 0.0             0   \n",
       "367   8/1/97            0          0                 0.0             0   \n",
       "368   9/1/97            0          0                 0.0             0   \n",
       "369  10/1/97            0          0                 0.0             0   \n",
       "370  11/1/97            0          0                 0.0             0   \n",
       "\n",
       "     new_deaths  positive_rate  stringency_index    cci  cci_cur  cci_exp  \\\n",
       "366           0            0.0               0.0  126.3    154.5    107.6   \n",
       "367           0            0.0               0.0  127.6    156.1    108.7   \n",
       "368           0            0.0               0.0  130.2    157.6    111.9   \n",
       "369           0            0.0               0.0  123.4    147.5    107.3   \n",
       "370           0            0.0               0.0  128.1    156.8    108.9   \n",
       "\n",
       "     umsent  umsent_cur  umsent_exp  ism_man  ism_non  cci_lag1  cci_lag2  \\\n",
       "366   107.1       114.0       102.6     57.7     56.7     129.9     127.9   \n",
       "367   104.4       110.7       100.3     56.3     62.0     126.3     129.9   \n",
       "368   106.0       114.1       100.7     53.9     56.2     127.6     126.3   \n",
       "369   105.6       109.8       102.8     56.4     56.6     130.2     127.6   \n",
       "370   107.2       114.9       102.3     55.7     58.5     123.4     130.2   \n",
       "\n",
       "     cci_lag3  cci_lag4  cci_lag5  total_cases_lag1  total_cases_lag2  \\\n",
       "366     118.5     118.5     118.9                 0                 0   \n",
       "367     127.9     118.5     118.5                 0                 0   \n",
       "368     129.9     127.9     118.5                 0                 0   \n",
       "369     126.3     129.9     127.9                 0                 0   \n",
       "370     127.6     126.3     129.9                 0                 0   \n",
       "\n",
       "     total_deaths_lag1  total_deaths_lag2  \n",
       "366                  0                  0  \n",
       "367                  0                  0  \n",
       "368                  0                  0  \n",
       "369                  0                  0  \n",
       "370                  0                  0  "
      ]
     },
     "execution_count": 5,
     "metadata": {},
     "output_type": "execute_result"
    }
   ],
   "source": [
    "# data\n",
    "df = pd.read_csv('cur-us_owid_covid_monthly.csv')\n",
    "pd.set_option('display.max_columns', None)\n",
    "df = df.dropna()\n",
    "# df.shape[0]\n",
    "df.head(5)"
   ]
  },
  {
   "cell_type": "code",
   "execution_count": 4,
   "id": "59f8e6e0-5fb7-48c4-9373-dcc67439364f",
   "metadata": {},
   "outputs": [
    {
     "data": {
      "text/plain": [
       "300"
      ]
     },
     "execution_count": 4,
     "metadata": {},
     "output_type": "execute_result"
    }
   ],
   "source": [
    "df.shape[0]"
   ]
  },
  {
   "cell_type": "code",
   "execution_count": 124,
   "id": "7323c773-81c5-4956-9711-d89ebcb34541",
   "metadata": {},
   "outputs": [],
   "source": [
    "x_columns = [ 'total_cases', 'cci_lag1', 'umsent']\n",
    "y = df['cci']"
   ]
  },
  {
   "cell_type": "code",
   "execution_count": 125,
   "id": "7f79c51a-94c5-473d-b56a-299869105b5b",
   "metadata": {
    "tags": []
   },
   "outputs": [
    {
     "name": "stdout",
     "output_type": "stream",
     "text": [
      "                            OLS Regression Results                            \n",
      "==============================================================================\n",
      "Dep. Variable:                    cci   R-squared:                       0.963\n",
      "Model:                            OLS   Adj. R-squared:                  0.963\n",
      "Method:                 Least Squares   F-statistic:                     2580.\n",
      "Date:                Tue, 08 Nov 2022   Prob (F-statistic):          8.59e-212\n",
      "Time:                        14:29:20   Log-Likelihood:                -925.69\n",
      "No. Observations:                 300   AIC:                             1859.\n",
      "Df Residuals:                     296   BIC:                             1874.\n",
      "Df Model:                           3                                         \n",
      "Covariance Type:            nonrobust                                         \n",
      "===============================================================================\n",
      "                  coef    std err          t      P>|t|      [0.025      0.975]\n",
      "-------------------------------------------------------------------------------\n",
      "const         -26.0172      2.758     -9.433      0.000     -31.445     -20.589\n",
      "total_cases  2.569e-07   3.33e-08      7.707      0.000    1.91e-07    3.22e-07\n",
      "cci_lag1        0.7284      0.024     30.365      0.000       0.681       0.776\n",
      "umsent          0.5963      0.052     11.435      0.000       0.494       0.699\n",
      "==============================================================================\n",
      "Omnibus:                        2.881   Durbin-Watson:                   1.863\n",
      "Prob(Omnibus):                  0.237   Jarque-Bera (JB):                3.144\n",
      "Skew:                          -0.025   Prob(JB):                        0.208\n",
      "Kurtosis:                       3.499   Cond. No.                     1.17e+08\n",
      "==============================================================================\n",
      "\n",
      "Notes:\n",
      "[1] Standard Errors assume that the covariance matrix of the errors is correctly specified.\n",
      "[2] The condition number is large, 1.17e+08. This might indicate that there are\n",
      "strong multicollinearity or other numerical problems.\n"
     ]
    }
   ],
   "source": [
    "x = df[x_columns] \n",
    "x = sm.add_constant(x)\n",
    "summary = sm.OLS(y,x).fit()\n",
    "print(summary.summary())"
   ]
  },
  {
   "cell_type": "code",
   "execution_count": 126,
   "id": "56c01956-0045-46bf-9bbc-df514f58970b",
   "metadata": {
    "tags": []
   },
   "outputs": [
    {
     "data": {
      "text/plain": [
       "[('Lagrange multiplier statistic', 8.25091083213001),\n",
       " ('p-value', 0.041101004939359746),\n",
       " ('f-value', 2.7903767277975646),\n",
       " ('f p-value', 0.04077043426737537)]"
      ]
     },
     "execution_count": 126,
     "metadata": {},
     "output_type": "execute_result"
    }
   ],
   "source": [
    "\n",
    "# Breusch-Pagan test\n",
    "names = ['Lagrange multiplier statistic', 'p-value',\n",
    "         'f-value', 'f p-value']\n",
    " \n",
    "# test result\n",
    "test_result = sms.het_breuschpagan(summary.resid, summary.model.exog)\n",
    " \n",
    "lzip(names, test_result)\n"
   ]
  },
  {
   "cell_type": "code",
   "execution_count": 127,
   "id": "2e9d1cf7-c243-47c7-98c5-05cba66c71f1",
   "metadata": {},
   "outputs": [
    {
     "name": "stdout",
     "output_type": "stream",
     "text": [
      "                            OLS Regression Results                            \n",
      "==============================================================================\n",
      "Dep. Variable:                    cci   R-squared:                       0.950\n",
      "Model:                            OLS   Adj. R-squared:                  0.949\n",
      "Method:                 Least Squares   F-statistic:                     1859.\n",
      "Date:                Tue, 08 Nov 2022   Prob (F-statistic):          1.19e-191\n",
      "Time:                        14:29:21   Log-Likelihood:                -972.70\n",
      "No. Observations:                 300   AIC:                             1953.\n",
      "Df Residuals:                     296   BIC:                             1968.\n",
      "Df Model:                           3                                         \n",
      "Covariance Type:            nonrobust                                         \n",
      "===============================================================================\n",
      "                  coef    std err          t      P>|t|      [0.025      0.975]\n",
      "-------------------------------------------------------------------------------\n",
      "const         -12.5427      4.051     -3.096      0.002     -20.515      -4.570\n",
      "total_cases  -3.12e-08   2.94e-08     -1.062      0.289    -8.9e-08    2.66e-08\n",
      "cci_lag1        0.9623      0.013     72.542      0.000       0.936       0.988\n",
      "ism_man         0.3058      0.077      3.992      0.000       0.155       0.457\n",
      "==============================================================================\n",
      "Omnibus:                       18.157   Durbin-Watson:                   1.989\n",
      "Prob(Omnibus):                  0.000   Jarque-Bera (JB):               41.736\n",
      "Skew:                          -0.247   Prob(JB):                     8.65e-10\n",
      "Kurtosis:                       4.759   Cond. No.                     1.47e+08\n",
      "==============================================================================\n",
      "\n",
      "Notes:\n",
      "[1] Standard Errors assume that the covariance matrix of the errors is correctly specified.\n",
      "[2] The condition number is large, 1.47e+08. This might indicate that there are\n",
      "strong multicollinearity or other numerical problems.\n"
     ]
    }
   ],
   "source": [
    "x_columns1 = [ 'total_cases', 'cci_lag1', 'ism_man']\n",
    "y1 = df['cci']\n",
    "\n",
    "x1 = df[x_columns1] \n",
    "x1 = sm.add_constant(x1)\n",
    "summary1 = sm.OLS(y1,x1).fit()\n",
    "print(summary1.summary())"
   ]
  },
  {
   "cell_type": "code",
   "execution_count": 128,
   "id": "cfff213b-4cbf-45df-a399-4e59a8c4a8d0",
   "metadata": {},
   "outputs": [
    {
     "data": {
      "text/plain": [
       "[('Lagrange multiplier statistic', 16.47238972372982),\n",
       " ('p-value', 0.0009071604648665212),\n",
       " ('f-value', 5.732336912412169),\n",
       " ('f p-value', 0.0007977702237826029)]"
      ]
     },
     "execution_count": 128,
     "metadata": {},
     "output_type": "execute_result"
    }
   ],
   "source": [
    "# Breusch-Pagan test1\n",
    "names = ['Lagrange multiplier statistic', 'p-value',\n",
    "         'f-value', 'f p-value']\n",
    " \n",
    "# test result\n",
    "test_result1 = sms.het_breuschpagan(summary1.resid, summary1.model.exog)\n",
    " \n",
    "lzip(names, test_result1)"
   ]
  },
  {
   "cell_type": "code",
   "execution_count": 129,
   "id": "1aeecd6c-ee46-4ce9-aeab-907d9c4f65ef",
   "metadata": {},
   "outputs": [
    {
     "name": "stdout",
     "output_type": "stream",
     "text": [
      "                            OLS Regression Results                            \n",
      "==============================================================================\n",
      "Dep. Variable:                    cci   R-squared:                       0.951\n",
      "Model:                            OLS   Adj. R-squared:                  0.951\n",
      "Method:                 Least Squares   F-statistic:                     1924.\n",
      "Date:                Tue, 08 Nov 2022   Prob (F-statistic):          1.01e-193\n",
      "Time:                        14:29:22   Log-Likelihood:                -967.87\n",
      "No. Observations:                 300   AIC:                             1944.\n",
      "Df Residuals:                     296   BIC:                             1959.\n",
      "Df Model:                           3                                         \n",
      "Covariance Type:            nonrobust                                         \n",
      "===============================================================================\n",
      "                  coef    std err          t      P>|t|      [0.025      0.975]\n",
      "-------------------------------------------------------------------------------\n",
      "const         -22.3721      5.080     -4.404      0.000     -32.370     -12.374\n",
      "total_cases -4.261e-08   2.91e-08     -1.464      0.144   -9.99e-08    1.47e-08\n",
      "cci_lag1        0.9383      0.014     65.254      0.000       0.910       0.967\n",
      "ism_non         0.5173      0.101      5.114      0.000       0.318       0.716\n",
      "==============================================================================\n",
      "Omnibus:                       10.619   Durbin-Watson:                   1.999\n",
      "Prob(Omnibus):                  0.005   Jarque-Bera (JB):               19.513\n",
      "Skew:                          -0.133   Prob(JB):                     5.79e-05\n",
      "Kurtosis:                       4.221   Cond. No.                     1.87e+08\n",
      "==============================================================================\n",
      "\n",
      "Notes:\n",
      "[1] Standard Errors assume that the covariance matrix of the errors is correctly specified.\n",
      "[2] The condition number is large, 1.87e+08. This might indicate that there are\n",
      "strong multicollinearity or other numerical problems.\n"
     ]
    }
   ],
   "source": [
    "x_columns2 = [ 'total_cases', 'cci_lag1', 'ism_non']\n",
    "y2 = df['cci']\n",
    "\n",
    "x2 = df[x_columns2] \n",
    "x2 = sm.add_constant(x2)\n",
    "summary2 = sm.OLS(y2,x2).fit()\n",
    "print(summary2.summary())"
   ]
  },
  {
   "cell_type": "code",
   "execution_count": 130,
   "id": "1ec85df3-c54d-42b7-8c90-8fd5c80d2708",
   "metadata": {},
   "outputs": [
    {
     "data": {
      "text/plain": [
       "[('Lagrange multiplier statistic', 21.982382621323282),\n",
       " ('p-value', 6.578402699373963e-05),\n",
       " ('f-value', 7.801406396786069),\n",
       " ('f p-value', 4.980828366660121e-05)]"
      ]
     },
     "execution_count": 130,
     "metadata": {},
     "output_type": "execute_result"
    }
   ],
   "source": [
    "# Breusch-Pagan test2\n",
    "names = ['Lagrange multiplier statistic', 'p-value',\n",
    "         'f-value', 'f p-value']\n",
    " \n",
    "# test result\n",
    "test_result2 = sms.het_breuschpagan(summary2.resid, summary2.model.exog)\n",
    " \n",
    "lzip(names, test_result2)"
   ]
  },
  {
   "cell_type": "code",
   "execution_count": 131,
   "id": "eb4981fd-f108-4cc1-8691-8cf58763ca0b",
   "metadata": {
    "tags": []
   },
   "outputs": [
    {
     "name": "stdout",
     "output_type": "stream",
     "text": [
      "p-value:  0.27891037351945935\n"
     ]
    }
   ],
   "source": [
    "# Checking for Stationarity, making sure that the mean, variance, and autocorrelation structure\n",
    "# doesn't change over time\n",
    "\n",
    "df_stationarityTest = adfuller(df['cci'], autolag='AIC')\n",
    "print('p-value: ', df_stationarityTest[1])"
   ]
  },
  {
   "cell_type": "markdown",
   "id": "7badfc47-173c-446b-a521-924af653958c",
   "metadata": {},
   "source": [
    " for vfi -- multicoliniearity ref"
   ]
  },
  {
   "cell_type": "code",
   "execution_count": 132,
   "id": "b5ee03ef-4181-4896-a25b-07ff1458d6c9",
   "metadata": {},
   "outputs": [],
   "source": [
    "# VIF - measuring strength of correlation with between the predictors, checking for multicollinearity\n",
    "# between pedictors\n",
    "x_columns = df[['total_cases','cci_lag1', 'umsent']]\n",
    "x = sm.add_constant(x_columns)\n",
    "y = df['cci']"
   ]
  },
  {
   "cell_type": "code",
   "execution_count": 133,
   "id": "6f880a0d-7f14-4040-9f4c-7450aac95698",
   "metadata": {
    "tags": []
   },
   "outputs": [
    {
     "data": {
      "text/html": [
       "<div>\n",
       "<style scoped>\n",
       "    .dataframe tbody tr th:only-of-type {\n",
       "        vertical-align: middle;\n",
       "    }\n",
       "\n",
       "    .dataframe tbody tr th {\n",
       "        vertical-align: top;\n",
       "    }\n",
       "\n",
       "    .dataframe thead th {\n",
       "        text-align: right;\n",
       "    }\n",
       "</style>\n",
       "<table border=\"1\" class=\"dataframe\">\n",
       "  <thead>\n",
       "    <tr style=\"text-align: right;\">\n",
       "      <th></th>\n",
       "      <th>VIF</th>\n",
       "      <th>feature</th>\n",
       "    </tr>\n",
       "  </thead>\n",
       "  <tbody>\n",
       "    <tr>\n",
       "      <th>0</th>\n",
       "      <td>1.071352</td>\n",
       "      <td>total_cases</td>\n",
       "    </tr>\n",
       "    <tr>\n",
       "      <th>1</th>\n",
       "      <td>13.727316</td>\n",
       "      <td>cci_lag1</td>\n",
       "    </tr>\n",
       "    <tr>\n",
       "      <th>2</th>\n",
       "      <td>13.762078</td>\n",
       "      <td>ism_man</td>\n",
       "    </tr>\n",
       "  </tbody>\n",
       "</table>\n",
       "</div>"
      ],
      "text/plain": [
       "         VIF      feature\n",
       "0   1.071352  total_cases\n",
       "1  13.727316     cci_lag1\n",
       "2  13.762078      ism_man"
      ]
     },
     "execution_count": 133,
     "metadata": {},
     "output_type": "execute_result"
    }
   ],
   "source": [
    "from statsmodels.stats.outliers_influence import variance_inflation_factor\n",
    "\n",
    "df4 = pd.DataFrame()\n",
    "\n",
    "df4['VIF'] = [variance_inflation_factor(x_columns3.values, i)\n",
    "           for i in range(x_columns3.shape[1])]\n",
    "df4['feature'] = x_columns3.columns\n",
    "\n",
    "df4"
   ]
  },
  {
   "cell_type": "code",
   "execution_count": 134,
   "id": "a32c0d62-6a8a-4872-a100-cf1514a98e5d",
   "metadata": {},
   "outputs": [],
   "source": [
    "df2 = df\n",
    "\n",
    "x_columns3 = df[['total_cases','cci_lag1', 'ism_man']]\n",
    "x1 = sm.add_constant(x_columns3)\n",
    "y1 = df['cci']"
   ]
  },
  {
   "cell_type": "code",
   "execution_count": 135,
   "id": "111719e9-2d00-4ae8-86e7-86dbc30e6320",
   "metadata": {},
   "outputs": [
    {
     "data": {
      "text/html": [
       "<div>\n",
       "<style scoped>\n",
       "    .dataframe tbody tr th:only-of-type {\n",
       "        vertical-align: middle;\n",
       "    }\n",
       "\n",
       "    .dataframe tbody tr th {\n",
       "        vertical-align: top;\n",
       "    }\n",
       "\n",
       "    .dataframe thead th {\n",
       "        text-align: right;\n",
       "    }\n",
       "</style>\n",
       "<table border=\"1\" class=\"dataframe\">\n",
       "  <thead>\n",
       "    <tr style=\"text-align: right;\">\n",
       "      <th></th>\n",
       "      <th>VIF</th>\n",
       "      <th>feature</th>\n",
       "    </tr>\n",
       "  </thead>\n",
       "  <tbody>\n",
       "    <tr>\n",
       "      <th>0</th>\n",
       "      <td>1.071352</td>\n",
       "      <td>total_cases</td>\n",
       "    </tr>\n",
       "    <tr>\n",
       "      <th>1</th>\n",
       "      <td>13.727316</td>\n",
       "      <td>cci_lag1</td>\n",
       "    </tr>\n",
       "    <tr>\n",
       "      <th>2</th>\n",
       "      <td>13.762078</td>\n",
       "      <td>ism_man</td>\n",
       "    </tr>\n",
       "  </tbody>\n",
       "</table>\n",
       "</div>"
      ],
      "text/plain": [
       "         VIF      feature\n",
       "0   1.071352  total_cases\n",
       "1  13.727316     cci_lag1\n",
       "2  13.762078      ism_man"
      ]
     },
     "execution_count": 135,
     "metadata": {},
     "output_type": "execute_result"
    }
   ],
   "source": [
    "from statsmodels.stats.outliers_influence import variance_inflation_factor\n",
    "\n",
    "df3 = pd.DataFrame()\n",
    "\n",
    "df3['VIF'] = [variance_inflation_factor(x_columns3.values, i)\n",
    "           for i in range(x_columns3.shape[1])]\n",
    "df3['feature'] = x_columns3.columns\n",
    "\n",
    "df3"
   ]
  },
  {
   "cell_type": "code",
   "execution_count": 136,
   "id": "51eb8fe8-c8a0-46bb-afa5-e4adc5d8f5a2",
   "metadata": {},
   "outputs": [],
   "source": [
    "df4 = df\n",
    "x_columns4 = df[['total_cases','cci_lag1', 'ism_man']]\n",
    "x4 = sm.add_constant(x_columns4)\n",
    "y4 = df['cci']"
   ]
  },
  {
   "cell_type": "code",
   "execution_count": 137,
   "id": "87e5823a-0f00-4c55-82b1-afb7ea03e49a",
   "metadata": {},
   "outputs": [
    {
     "data": {
      "text/html": [
       "<div>\n",
       "<style scoped>\n",
       "    .dataframe tbody tr th:only-of-type {\n",
       "        vertical-align: middle;\n",
       "    }\n",
       "\n",
       "    .dataframe tbody tr th {\n",
       "        vertical-align: top;\n",
       "    }\n",
       "\n",
       "    .dataframe thead th {\n",
       "        text-align: right;\n",
       "    }\n",
       "</style>\n",
       "<table border=\"1\" class=\"dataframe\">\n",
       "  <thead>\n",
       "    <tr style=\"text-align: right;\">\n",
       "      <th></th>\n",
       "      <th>VIF</th>\n",
       "      <th>feature</th>\n",
       "    </tr>\n",
       "  </thead>\n",
       "  <tbody>\n",
       "    <tr>\n",
       "      <th>0</th>\n",
       "      <td>1.071352</td>\n",
       "      <td>total_cases</td>\n",
       "    </tr>\n",
       "    <tr>\n",
       "      <th>1</th>\n",
       "      <td>13.727316</td>\n",
       "      <td>cci_lag1</td>\n",
       "    </tr>\n",
       "    <tr>\n",
       "      <th>2</th>\n",
       "      <td>13.762078</td>\n",
       "      <td>ism_man</td>\n",
       "    </tr>\n",
       "  </tbody>\n",
       "</table>\n",
       "</div>"
      ],
      "text/plain": [
       "         VIF      feature\n",
       "0   1.071352  total_cases\n",
       "1  13.727316     cci_lag1\n",
       "2  13.762078      ism_man"
      ]
     },
     "execution_count": 137,
     "metadata": {},
     "output_type": "execute_result"
    }
   ],
   "source": [
    "from statsmodels.stats.outliers_influence import variance_inflation_factor\n",
    "\n",
    "df4 = pd.DataFrame()\n",
    "\n",
    "df4['VIF'] = [variance_inflation_factor(x_columns4.values, i)\n",
    "           for i in range(x_columns4.shape[1])]\n",
    "df4['feature'] = x_columns4.columns\n",
    "\n",
    "df4"
   ]
  },
  {
   "cell_type": "markdown",
   "id": "0f2e303b-e45f-4885-ae99-ff754451f4da",
   "metadata": {},
   "source": [
    "observered value; resid plot"
   ]
  },
  {
   "cell_type": "code",
   "execution_count": 152,
   "id": "28970224-d1fc-4a51-86b0-37119f62d99b",
   "metadata": {},
   "outputs": [
    {
     "data": {
      "text/plain": [
       "Text(0.5, 1.0, 'cci ~ total_cases + cci_lag1 + umsent - Residuals Q-Q Plot')"
      ]
     },
     "execution_count": 152,
     "metadata": {},
     "output_type": "execute_result"
    },
    {
     "data": {
      "image/png": "[encoded data removed]",
      "text/plain": [
       "<Figure size 432x288 with 1 Axes>"
      ]
     },
     "metadata": {
      "needs_background": "light"
     },
     "output_type": "display_data"
    }
   ],
   "source": [
    "# checking the assumption of normality --homoskedasticity\n",
    "#      data skew and model fit\n",
    "from scipy import stats\n",
    "\n",
    "stats.probplot(summary.resid, dist=\"norm\", plot= plt)\n",
    "plt.title(\"cci ~ total_cases + cci_lag1 + umsent - Residuals Q-Q Plot\")\n",
    "\n",
    "#Saving plot as a png\n",
    "#plt.savefig(\"Model1_Resid_qqplot.png\")"
   ]
  },
  {
   "cell_type": "code",
   "execution_count": 144,
   "id": "d95f958b-83eb-4734-91e4-639b5a824491",
   "metadata": {},
   "outputs": [
    {
     "data": {
      "text/plain": [
       "Text(0.5, 1.0, 'cci ~ total_cases + cci_lag1 + ism-man - Residuals Q-Q Plot')"
      ]
     },
     "execution_count": 144,
     "metadata": {},
     "output_type": "execute_result"
    },
    {
     "data": {
      "image/png": "[encoded data removed]",
      "text/plain": [
       "<Figure size 432x288 with 1 Axes>"
      ]
     },
     "metadata": {
      "needs_background": "light"
     },
     "output_type": "display_data"
    }
   ],
   "source": [
    "from scipy import stats\n",
    "\n",
    "stats.probplot(summary1.resid, dist=\"norm\", plot= plt)\n",
    "plt.title(\"cci ~ total_cases + cci_lag1 + ism-man - Residuals Q-Q Plot\")\n",
    "\n",
    "#Saving plot as a png\n",
    "#plt.savefig(\"Model1_Resid_qqplot.png\")"
   ]
  },
  {
   "cell_type": "code",
   "execution_count": 145,
   "id": "48839793-f5bb-47fb-9f67-757c9422159f",
   "metadata": {},
   "outputs": [
    {
     "data": {
      "text/plain": [
       "Text(0.5, 1.0, 'cci ~ total_cases + cci_lag1 + ism_non - Residuals Q-Q Plot')"
      ]
     },
     "execution_count": 145,
     "metadata": {},
     "output_type": "execute_result"
    },
    {
     "data": {
      "image/png": "[encoded data removed]",
      "text/plain": [
       "<Figure size 432x288 with 1 Axes>"
      ]
     },
     "metadata": {
      "needs_background": "light"
     },
     "output_type": "display_data"
    }
   ],
   "source": [
    "from scipy import stats\n",
    "\n",
    "stats.probplot(summary2.resid, dist=\"norm\", plot= plt)\n",
    "plt.title(\"cci ~ total_cases + cci_lag1 + ism_non - Residuals Q-Q Plot\")\n",
    "\n",
    "#Saving plot as a png\n",
    "#plt.savefig(\"Model1_Resid_qqplot.png\")"
   ]
  },
  {
   "cell_type": "code",
   "execution_count": 153,
   "id": "97712ef0-8430-4f65-b237-3a4821d1e650",
   "metadata": {},
   "outputs": [
    {
     "name": "stdout",
     "output_type": "stream",
     "text": [
      "                   sum_sq     df           F        PR(>F)\n",
      "total_cases   1687.599639    1.0   59.396999  1.963161e-13\n",
      "cci_lag1     26196.838522    1.0  922.027691  6.307114e-93\n",
      "umsent        3715.134343    1.0  130.758402  2.533786e-25\n",
      "Residual      8410.012276  296.0         NaN           NaN\n"
     ]
    }
   ],
   "source": [
    "table = sm.stats.anova_lm(mo, typ=2)\n",
    "print(table)"
   ]
  },
  {
   "cell_type": "code",
   "execution_count": 147,
   "id": "efd5c2a6-1121-4c58-88e1-4d80237ad51c",
   "metadata": {},
   "outputs": [
    {
     "name": "stdout",
     "output_type": "stream",
     "text": [
      "                 Results: Ordinary least squares\n",
      "==================================================================\n",
      "Model:              OLS              Adj. R-squared:     0.963    \n",
      "Dependent Variable: cci              AIC:                1859.3818\n",
      "Date:               2022-11-08 14:33 BIC:                1874.1970\n",
      "No. Observations:   300              Log-Likelihood:     -925.69  \n",
      "Df Model:           3                F-statistic:        2580.    \n",
      "Df Residuals:       296              Prob (F-statistic): 8.59e-212\n",
      "R-squared:          0.963            Scale:              28.412   \n",
      "------------------------------------------------------------------\n",
      "                 Coef.   Std.Err.    t    P>|t|   [0.025   0.975] \n",
      "------------------------------------------------------------------\n",
      "Intercept       -26.0172   2.7582 -9.4327 0.0000 -31.4454 -20.5891\n",
      "total_cases       0.0000   0.0000  7.7069 0.0000   0.0000   0.0000\n",
      "cci_lag1          0.7284   0.0240 30.3649 0.0000   0.6812   0.7756\n",
      "umsent            0.5963   0.0521 11.4350 0.0000   0.4937   0.6989\n",
      "------------------------------------------------------------------\n",
      "Omnibus:              2.881       Durbin-Watson:         1.863    \n",
      "Prob(Omnibus):        0.237       Jarque-Bera (JB):      3.144    \n",
      "Skew:                 -0.025      Prob(JB):              0.208    \n",
      "Kurtosis:             3.499       Condition No.:         116978028\n",
      "==================================================================\n",
      "* The condition number is large (1e+08). This might indicate\n",
      "strong multicollinearity or other numerical problems.\n"
     ]
    }
   ],
   "source": [
    "sy = smf.ols('cci ~ total_cases + cci_lag1 + umsent', df)\n",
    "mo = sy.fit()\n",
    "print(mo.summary2())"
   ]
  },
  {
   "cell_type": "code",
   "execution_count": 148,
   "id": "aa9101d8-601c-4427-b60e-5136d5824bc0",
   "metadata": {
    "collapsed": true,
    "jupyter": {
     "outputs_hidden": true
    },
    "tags": []
   },
   "outputs": [
    {
     "data": {
      "text/html": [
       "<div>\n",
       "<style scoped>\n",
       "    .dataframe tbody tr th:only-of-type {\n",
       "        vertical-align: middle;\n",
       "    }\n",
       "\n",
       "    .dataframe tbody tr th {\n",
       "        vertical-align: top;\n",
       "    }\n",
       "\n",
       "    .dataframe thead th {\n",
       "        text-align: right;\n",
       "    }\n",
       "</style>\n",
       "<table border=\"1\" class=\"dataframe\">\n",
       "  <thead>\n",
       "    <tr style=\"text-align: right;\">\n",
       "      <th></th>\n",
       "      <th>total_cases</th>\n",
       "      <th>new_cases</th>\n",
       "      <th>new_cases_smoothed</th>\n",
       "      <th>total_deaths</th>\n",
       "      <th>new_deaths</th>\n",
       "      <th>positive_rate</th>\n",
       "      <th>stringency_index</th>\n",
       "      <th>cci</th>\n",
       "      <th>cci_cur</th>\n",
       "      <th>cci_exp</th>\n",
       "      <th>umsent</th>\n",
       "      <th>umsent_cur</th>\n",
       "      <th>umsent_exp</th>\n",
       "      <th>ism_man</th>\n",
       "      <th>ism_non</th>\n",
       "      <th>cci_lag1</th>\n",
       "      <th>cci_lag2</th>\n",
       "      <th>cci_lag3</th>\n",
       "      <th>cci_lag4</th>\n",
       "      <th>cci_lag5</th>\n",
       "      <th>total_cases_lag1</th>\n",
       "      <th>total_cases_lag2</th>\n",
       "      <th>total_deaths_lag1</th>\n",
       "      <th>total_deaths_lag2</th>\n",
       "    </tr>\n",
       "  </thead>\n",
       "  <tbody>\n",
       "    <tr>\n",
       "      <th>total_cases</th>\n",
       "      <td>1.000000</td>\n",
       "      <td>0.731918</td>\n",
       "      <td>0.675118</td>\n",
       "      <td>0.983190</td>\n",
       "      <td>0.646423</td>\n",
       "      <td>0.633434</td>\n",
       "      <td>0.595817</td>\n",
       "      <td>0.094413</td>\n",
       "      <td>0.152775</td>\n",
       "      <td>-0.035227</td>\n",
       "      <td>-0.329655</td>\n",
       "      <td>-0.387146</td>\n",
       "      <td>-0.269706</td>\n",
       "      <td>0.253471</td>\n",
       "      <td>0.280734</td>\n",
       "      <td>0.098416</td>\n",
       "      <td>0.100656</td>\n",
       "      <td>0.099427</td>\n",
       "      <td>0.098822</td>\n",
       "      <td>0.099753</td>\n",
       "      <td>0.995610</td>\n",
       "      <td>0.987893</td>\n",
       "      <td>0.985699</td>\n",
       "      <td>0.986382</td>\n",
       "    </tr>\n",
       "    <tr>\n",
       "      <th>new_cases</th>\n",
       "      <td>0.731918</td>\n",
       "      <td>1.000000</td>\n",
       "      <td>0.916267</td>\n",
       "      <td>0.760064</td>\n",
       "      <td>0.857942</td>\n",
       "      <td>0.829708</td>\n",
       "      <td>0.700117</td>\n",
       "      <td>0.045618</td>\n",
       "      <td>0.074558</td>\n",
       "      <td>-0.018546</td>\n",
       "      <td>-0.279644</td>\n",
       "      <td>-0.328161</td>\n",
       "      <td>-0.228921</td>\n",
       "      <td>0.244688</td>\n",
       "      <td>0.237940</td>\n",
       "      <td>0.060226</td>\n",
       "      <td>0.080145</td>\n",
       "      <td>0.084317</td>\n",
       "      <td>0.081383</td>\n",
       "      <td>0.089600</td>\n",
       "      <td>0.678265</td>\n",
       "      <td>0.667050</td>\n",
       "      <td>0.742266</td>\n",
       "      <td>0.736626</td>\n",
       "    </tr>\n",
       "    <tr>\n",
       "      <th>new_cases_smoothed</th>\n",
       "      <td>0.675118</td>\n",
       "      <td>0.916267</td>\n",
       "      <td>1.000000</td>\n",
       "      <td>0.698959</td>\n",
       "      <td>0.748111</td>\n",
       "      <td>0.856726</td>\n",
       "      <td>0.629771</td>\n",
       "      <td>0.045807</td>\n",
       "      <td>0.070557</td>\n",
       "      <td>-0.010404</td>\n",
       "      <td>-0.248900</td>\n",
       "      <td>-0.292073</td>\n",
       "      <td>-0.203722</td>\n",
       "      <td>0.229843</td>\n",
       "      <td>0.208248</td>\n",
       "      <td>0.059576</td>\n",
       "      <td>0.072448</td>\n",
       "      <td>0.073124</td>\n",
       "      <td>0.070697</td>\n",
       "      <td>0.077625</td>\n",
       "      <td>0.613095</td>\n",
       "      <td>0.597711</td>\n",
       "      <td>0.680348</td>\n",
       "      <td>0.673357</td>\n",
       "    </tr>\n",
       "    <tr>\n",
       "      <th>total_deaths</th>\n",
       "      <td>0.983190</td>\n",
       "      <td>0.760064</td>\n",
       "      <td>0.698959</td>\n",
       "      <td>1.000000</td>\n",
       "      <td>0.698337</td>\n",
       "      <td>0.679986</td>\n",
       "      <td>0.699750</td>\n",
       "      <td>0.104197</td>\n",
       "      <td>0.151590</td>\n",
       "      <td>-0.006539</td>\n",
       "      <td>-0.326883</td>\n",
       "      <td>-0.390106</td>\n",
       "      <td>-0.262853</td>\n",
       "      <td>0.289170</td>\n",
       "      <td>0.325448</td>\n",
       "      <td>0.104871</td>\n",
       "      <td>0.104026</td>\n",
       "      <td>0.102212</td>\n",
       "      <td>0.102017</td>\n",
       "      <td>0.103211</td>\n",
       "      <td>0.977683</td>\n",
       "      <td>0.969486</td>\n",
       "      <td>0.998647</td>\n",
       "      <td>0.995180</td>\n",
       "    </tr>\n",
       "    <tr>\n",
       "      <th>new_deaths</th>\n",
       "      <td>0.646423</td>\n",
       "      <td>0.857942</td>\n",
       "      <td>0.748111</td>\n",
       "      <td>0.698337</td>\n",
       "      <td>1.000000</td>\n",
       "      <td>0.780809</td>\n",
       "      <td>0.842179</td>\n",
       "      <td>0.041404</td>\n",
       "      <td>0.042262</td>\n",
       "      <td>0.031403</td>\n",
       "      <td>-0.262999</td>\n",
       "      <td>-0.316011</td>\n",
       "      <td>-0.210001</td>\n",
       "      <td>0.223233</td>\n",
       "      <td>0.200169</td>\n",
       "      <td>0.048653</td>\n",
       "      <td>0.082889</td>\n",
       "      <td>0.102229</td>\n",
       "      <td>0.099910</td>\n",
       "      <td>0.103438</td>\n",
       "      <td>0.597031</td>\n",
       "      <td>0.559952</td>\n",
       "      <td>0.668050</td>\n",
       "      <td>0.648733</td>\n",
       "    </tr>\n",
       "    <tr>\n",
       "      <th>positive_rate</th>\n",
       "      <td>0.633434</td>\n",
       "      <td>0.829708</td>\n",
       "      <td>0.856726</td>\n",
       "      <td>0.679986</td>\n",
       "      <td>0.780809</td>\n",
       "      <td>1.000000</td>\n",
       "      <td>0.815777</td>\n",
       "      <td>0.029913</td>\n",
       "      <td>0.036349</td>\n",
       "      <td>0.011809</td>\n",
       "      <td>-0.293179</td>\n",
       "      <td>-0.347612</td>\n",
       "      <td>-0.237528</td>\n",
       "      <td>0.150051</td>\n",
       "      <td>0.120814</td>\n",
       "      <td>0.066128</td>\n",
       "      <td>0.098298</td>\n",
       "      <td>0.105567</td>\n",
       "      <td>0.110448</td>\n",
       "      <td>0.123641</td>\n",
       "      <td>0.592931</td>\n",
       "      <td>0.585901</td>\n",
       "      <td>0.660024</td>\n",
       "      <td>0.651238</td>\n",
       "    </tr>\n",
       "    <tr>\n",
       "      <th>stringency_index</th>\n",
       "      <td>0.595817</td>\n",
       "      <td>0.700117</td>\n",
       "      <td>0.629771</td>\n",
       "      <td>0.699750</td>\n",
       "      <td>0.842179</td>\n",
       "      <td>0.815777</td>\n",
       "      <td>1.000000</td>\n",
       "      <td>0.058560</td>\n",
       "      <td>0.041374</td>\n",
       "      <td>0.079636</td>\n",
       "      <td>-0.264573</td>\n",
       "      <td>-0.327748</td>\n",
       "      <td>-0.204056</td>\n",
       "      <td>0.241556</td>\n",
       "      <td>0.233188</td>\n",
       "      <td>0.064402</td>\n",
       "      <td>0.078727</td>\n",
       "      <td>0.092404</td>\n",
       "      <td>0.102061</td>\n",
       "      <td>0.110610</td>\n",
       "      <td>0.571304</td>\n",
       "      <td>0.549348</td>\n",
       "      <td>0.672832</td>\n",
       "      <td>0.647972</td>\n",
       "    </tr>\n",
       "    <tr>\n",
       "      <th>cci</th>\n",
       "      <td>0.094413</td>\n",
       "      <td>0.045618</td>\n",
       "      <td>0.045807</td>\n",
       "      <td>0.104197</td>\n",
       "      <td>0.041404</td>\n",
       "      <td>0.029913</td>\n",
       "      <td>0.058560</td>\n",
       "      <td>1.000000</td>\n",
       "      <td>0.964905</td>\n",
       "      <td>0.867310</td>\n",
       "      <td>0.833912</td>\n",
       "      <td>0.805629</td>\n",
       "      <td>0.808655</td>\n",
       "      <td>0.228768</td>\n",
       "      <td>0.497086</td>\n",
       "      <td>0.973085</td>\n",
       "      <td>0.945451</td>\n",
       "      <td>0.924406</td>\n",
       "      <td>0.903368</td>\n",
       "      <td>0.885514</td>\n",
       "      <td>0.096609</td>\n",
       "      <td>0.097056</td>\n",
       "      <td>0.106030</td>\n",
       "      <td>0.105984</td>\n",
       "    </tr>\n",
       "    <tr>\n",
       "      <th>cci_cur</th>\n",
       "      <td>0.152775</td>\n",
       "      <td>0.074558</td>\n",
       "      <td>0.070557</td>\n",
       "      <td>0.151590</td>\n",
       "      <td>0.042262</td>\n",
       "      <td>0.036349</td>\n",
       "      <td>0.041374</td>\n",
       "      <td>0.964905</td>\n",
       "      <td>1.000000</td>\n",
       "      <td>0.706160</td>\n",
       "      <td>0.740469</td>\n",
       "      <td>0.738266</td>\n",
       "      <td>0.701386</td>\n",
       "      <td>0.104047</td>\n",
       "      <td>0.399183</td>\n",
       "      <td>0.961758</td>\n",
       "      <td>0.952111</td>\n",
       "      <td>0.941246</td>\n",
       "      <td>0.929963</td>\n",
       "      <td>0.921167</td>\n",
       "      <td>0.156324</td>\n",
       "      <td>0.158200</td>\n",
       "      <td>0.156317</td>\n",
       "      <td>0.159375</td>\n",
       "    </tr>\n",
       "    <tr>\n",
       "      <th>cci_exp</th>\n",
       "      <td>-0.035227</td>\n",
       "      <td>-0.018546</td>\n",
       "      <td>-0.010404</td>\n",
       "      <td>-0.006539</td>\n",
       "      <td>0.031403</td>\n",
       "      <td>0.011809</td>\n",
       "      <td>0.079636</td>\n",
       "      <td>0.867310</td>\n",
       "      <td>0.706160</td>\n",
       "      <td>1.000000</td>\n",
       "      <td>0.844950</td>\n",
       "      <td>0.772888</td>\n",
       "      <td>0.850914</td>\n",
       "      <td>0.419530</td>\n",
       "      <td>0.583720</td>\n",
       "      <td>0.800775</td>\n",
       "      <td>0.744593</td>\n",
       "      <td>0.708455</td>\n",
       "      <td>0.673085</td>\n",
       "      <td>0.641569</td>\n",
       "      <td>-0.036028</td>\n",
       "      <td>-0.038360</td>\n",
       "      <td>-0.010556</td>\n",
       "      <td>-0.016481</td>\n",
       "    </tr>\n",
       "    <tr>\n",
       "      <th>umsent</th>\n",
       "      <td>-0.329655</td>\n",
       "      <td>-0.279644</td>\n",
       "      <td>-0.248900</td>\n",
       "      <td>-0.326883</td>\n",
       "      <td>-0.262999</td>\n",
       "      <td>-0.293179</td>\n",
       "      <td>-0.264573</td>\n",
       "      <td>0.833912</td>\n",
       "      <td>0.740469</td>\n",
       "      <td>0.844950</td>\n",
       "      <td>1.000000</td>\n",
       "      <td>0.955842</td>\n",
       "      <td>0.977017</td>\n",
       "      <td>0.155758</td>\n",
       "      <td>0.395192</td>\n",
       "      <td>0.798701</td>\n",
       "      <td>0.755536</td>\n",
       "      <td>0.723546</td>\n",
       "      <td>0.696706</td>\n",
       "      <td>0.677450</td>\n",
       "      <td>-0.326269</td>\n",
       "      <td>-0.323433</td>\n",
       "      <td>-0.325054</td>\n",
       "      <td>-0.324631</td>\n",
       "    </tr>\n",
       "    <tr>\n",
       "      <th>umsent_cur</th>\n",
       "      <td>-0.387146</td>\n",
       "      <td>-0.328161</td>\n",
       "      <td>-0.292073</td>\n",
       "      <td>-0.390106</td>\n",
       "      <td>-0.316011</td>\n",
       "      <td>-0.347612</td>\n",
       "      <td>-0.327748</td>\n",
       "      <td>0.805629</td>\n",
       "      <td>0.738266</td>\n",
       "      <td>0.772888</td>\n",
       "      <td>0.955842</td>\n",
       "      <td>1.000000</td>\n",
       "      <td>0.871245</td>\n",
       "      <td>0.167617</td>\n",
       "      <td>0.415763</td>\n",
       "      <td>0.778003</td>\n",
       "      <td>0.744596</td>\n",
       "      <td>0.721372</td>\n",
       "      <td>0.697647</td>\n",
       "      <td>0.677697</td>\n",
       "      <td>-0.383472</td>\n",
       "      <td>-0.381081</td>\n",
       "      <td>-0.388034</td>\n",
       "      <td>-0.387150</td>\n",
       "    </tr>\n",
       "    <tr>\n",
       "      <th>umsent_exp</th>\n",
       "      <td>-0.269706</td>\n",
       "      <td>-0.228921</td>\n",
       "      <td>-0.203722</td>\n",
       "      <td>-0.262853</td>\n",
       "      <td>-0.210001</td>\n",
       "      <td>-0.237528</td>\n",
       "      <td>-0.204056</td>\n",
       "      <td>0.808655</td>\n",
       "      <td>0.701386</td>\n",
       "      <td>0.850914</td>\n",
       "      <td>0.977017</td>\n",
       "      <td>0.871245</td>\n",
       "      <td>1.000000</td>\n",
       "      <td>0.138570</td>\n",
       "      <td>0.358607</td>\n",
       "      <td>0.769841</td>\n",
       "      <td>0.721924</td>\n",
       "      <td>0.685308</td>\n",
       "      <td>0.657717</td>\n",
       "      <td>0.640042</td>\n",
       "      <td>-0.266735</td>\n",
       "      <td>-0.263708</td>\n",
       "      <td>-0.261299</td>\n",
       "      <td>-0.261240</td>\n",
       "    </tr>\n",
       "    <tr>\n",
       "      <th>ism_man</th>\n",
       "      <td>0.253471</td>\n",
       "      <td>0.244688</td>\n",
       "      <td>0.229843</td>\n",
       "      <td>0.289170</td>\n",
       "      <td>0.223233</td>\n",
       "      <td>0.150051</td>\n",
       "      <td>0.241556</td>\n",
       "      <td>0.228768</td>\n",
       "      <td>0.104047</td>\n",
       "      <td>0.419530</td>\n",
       "      <td>0.155758</td>\n",
       "      <td>0.167617</td>\n",
       "      <td>0.138570</td>\n",
       "      <td>1.000000</td>\n",
       "      <td>0.775959</td>\n",
       "      <td>0.184363</td>\n",
       "      <td>0.135885</td>\n",
       "      <td>0.089721</td>\n",
       "      <td>0.046132</td>\n",
       "      <td>0.008798</td>\n",
       "      <td>0.246001</td>\n",
       "      <td>0.237758</td>\n",
       "      <td>0.285084</td>\n",
       "      <td>0.278418</td>\n",
       "    </tr>\n",
       "    <tr>\n",
       "      <th>ism_non</th>\n",
       "      <td>0.280734</td>\n",
       "      <td>0.237940</td>\n",
       "      <td>0.208248</td>\n",
       "      <td>0.325448</td>\n",
       "      <td>0.200169</td>\n",
       "      <td>0.120814</td>\n",
       "      <td>0.233188</td>\n",
       "      <td>0.497086</td>\n",
       "      <td>0.399183</td>\n",
       "      <td>0.583720</td>\n",
       "      <td>0.395192</td>\n",
       "      <td>0.415763</td>\n",
       "      <td>0.358607</td>\n",
       "      <td>0.775959</td>\n",
       "      <td>1.000000</td>\n",
       "      <td>0.453185</td>\n",
       "      <td>0.399258</td>\n",
       "      <td>0.359653</td>\n",
       "      <td>0.325300</td>\n",
       "      <td>0.294728</td>\n",
       "      <td>0.279917</td>\n",
       "      <td>0.275414</td>\n",
       "      <td>0.324702</td>\n",
       "      <td>0.319823</td>\n",
       "    </tr>\n",
       "    <tr>\n",
       "      <th>cci_lag1</th>\n",
       "      <td>0.098416</td>\n",
       "      <td>0.060226</td>\n",
       "      <td>0.059576</td>\n",
       "      <td>0.104871</td>\n",
       "      <td>0.048653</td>\n",
       "      <td>0.066128</td>\n",
       "      <td>0.064402</td>\n",
       "      <td>0.973085</td>\n",
       "      <td>0.961758</td>\n",
       "      <td>0.800775</td>\n",
       "      <td>0.798701</td>\n",
       "      <td>0.778003</td>\n",
       "      <td>0.769841</td>\n",
       "      <td>0.184363</td>\n",
       "      <td>0.453185</td>\n",
       "      <td>1.000000</td>\n",
       "      <td>0.973234</td>\n",
       "      <td>0.945534</td>\n",
       "      <td>0.924507</td>\n",
       "      <td>0.903491</td>\n",
       "      <td>0.100044</td>\n",
       "      <td>0.103089</td>\n",
       "      <td>0.108111</td>\n",
       "      <td>0.110603</td>\n",
       "    </tr>\n",
       "    <tr>\n",
       "      <th>cci_lag2</th>\n",
       "      <td>0.100656</td>\n",
       "      <td>0.080145</td>\n",
       "      <td>0.072448</td>\n",
       "      <td>0.104026</td>\n",
       "      <td>0.082889</td>\n",
       "      <td>0.098298</td>\n",
       "      <td>0.078727</td>\n",
       "      <td>0.945451</td>\n",
       "      <td>0.952111</td>\n",
       "      <td>0.744593</td>\n",
       "      <td>0.755536</td>\n",
       "      <td>0.744596</td>\n",
       "      <td>0.721924</td>\n",
       "      <td>0.135885</td>\n",
       "      <td>0.399258</td>\n",
       "      <td>0.973234</td>\n",
       "      <td>1.000000</td>\n",
       "      <td>0.973168</td>\n",
       "      <td>0.945518</td>\n",
       "      <td>0.924539</td>\n",
       "      <td>0.100522</td>\n",
       "      <td>0.102796</td>\n",
       "      <td>0.105671</td>\n",
       "      <td>0.109491</td>\n",
       "    </tr>\n",
       "    <tr>\n",
       "      <th>cci_lag3</th>\n",
       "      <td>0.099427</td>\n",
       "      <td>0.084317</td>\n",
       "      <td>0.073124</td>\n",
       "      <td>0.102212</td>\n",
       "      <td>0.102229</td>\n",
       "      <td>0.105567</td>\n",
       "      <td>0.092404</td>\n",
       "      <td>0.924406</td>\n",
       "      <td>0.941246</td>\n",
       "      <td>0.708455</td>\n",
       "      <td>0.723546</td>\n",
       "      <td>0.721372</td>\n",
       "      <td>0.685308</td>\n",
       "      <td>0.089721</td>\n",
       "      <td>0.359653</td>\n",
       "      <td>0.945534</td>\n",
       "      <td>0.973168</td>\n",
       "      <td>1.000000</td>\n",
       "      <td>0.973208</td>\n",
       "      <td>0.945618</td>\n",
       "      <td>0.098896</td>\n",
       "      <td>0.099065</td>\n",
       "      <td>0.101533</td>\n",
       "      <td>0.103477</td>\n",
       "    </tr>\n",
       "    <tr>\n",
       "      <th>cci_lag4</th>\n",
       "      <td>0.098822</td>\n",
       "      <td>0.081383</td>\n",
       "      <td>0.070697</td>\n",
       "      <td>0.102017</td>\n",
       "      <td>0.099910</td>\n",
       "      <td>0.110448</td>\n",
       "      <td>0.102061</td>\n",
       "      <td>0.903368</td>\n",
       "      <td>0.929963</td>\n",
       "      <td>0.673085</td>\n",
       "      <td>0.696706</td>\n",
       "      <td>0.697647</td>\n",
       "      <td>0.657717</td>\n",
       "      <td>0.046132</td>\n",
       "      <td>0.325300</td>\n",
       "      <td>0.924507</td>\n",
       "      <td>0.945518</td>\n",
       "      <td>0.973208</td>\n",
       "      <td>1.000000</td>\n",
       "      <td>0.973256</td>\n",
       "      <td>0.098438</td>\n",
       "      <td>0.098209</td>\n",
       "      <td>0.100341</td>\n",
       "      <td>0.099851</td>\n",
       "    </tr>\n",
       "    <tr>\n",
       "      <th>cci_lag5</th>\n",
       "      <td>0.099753</td>\n",
       "      <td>0.089600</td>\n",
       "      <td>0.077625</td>\n",
       "      <td>0.103211</td>\n",
       "      <td>0.103438</td>\n",
       "      <td>0.123641</td>\n",
       "      <td>0.110610</td>\n",
       "      <td>0.885514</td>\n",
       "      <td>0.921167</td>\n",
       "      <td>0.641569</td>\n",
       "      <td>0.677450</td>\n",
       "      <td>0.677697</td>\n",
       "      <td>0.640042</td>\n",
       "      <td>0.008798</td>\n",
       "      <td>0.294728</td>\n",
       "      <td>0.903491</td>\n",
       "      <td>0.924539</td>\n",
       "      <td>0.945618</td>\n",
       "      <td>0.973256</td>\n",
       "      <td>1.000000</td>\n",
       "      <td>0.099387</td>\n",
       "      <td>0.099390</td>\n",
       "      <td>0.101459</td>\n",
       "      <td>0.099980</td>\n",
       "    </tr>\n",
       "    <tr>\n",
       "      <th>total_cases_lag1</th>\n",
       "      <td>0.995610</td>\n",
       "      <td>0.678265</td>\n",
       "      <td>0.613095</td>\n",
       "      <td>0.977683</td>\n",
       "      <td>0.597031</td>\n",
       "      <td>0.592931</td>\n",
       "      <td>0.571304</td>\n",
       "      <td>0.096609</td>\n",
       "      <td>0.156324</td>\n",
       "      <td>-0.036028</td>\n",
       "      <td>-0.326269</td>\n",
       "      <td>-0.383472</td>\n",
       "      <td>-0.266735</td>\n",
       "      <td>0.246001</td>\n",
       "      <td>0.279917</td>\n",
       "      <td>0.100044</td>\n",
       "      <td>0.100522</td>\n",
       "      <td>0.098896</td>\n",
       "      <td>0.098438</td>\n",
       "      <td>0.099387</td>\n",
       "      <td>1.000000</td>\n",
       "      <td>0.995025</td>\n",
       "      <td>0.982974</td>\n",
       "      <td>0.984859</td>\n",
       "    </tr>\n",
       "    <tr>\n",
       "      <th>total_cases_lag2</th>\n",
       "      <td>0.987893</td>\n",
       "      <td>0.667050</td>\n",
       "      <td>0.597711</td>\n",
       "      <td>0.969486</td>\n",
       "      <td>0.559952</td>\n",
       "      <td>0.585901</td>\n",
       "      <td>0.549348</td>\n",
       "      <td>0.097056</td>\n",
       "      <td>0.158200</td>\n",
       "      <td>-0.038360</td>\n",
       "      <td>-0.323433</td>\n",
       "      <td>-0.381081</td>\n",
       "      <td>-0.263708</td>\n",
       "      <td>0.237758</td>\n",
       "      <td>0.275414</td>\n",
       "      <td>0.103089</td>\n",
       "      <td>0.102796</td>\n",
       "      <td>0.099065</td>\n",
       "      <td>0.098209</td>\n",
       "      <td>0.099390</td>\n",
       "      <td>0.995025</td>\n",
       "      <td>1.000000</td>\n",
       "      <td>0.977825</td>\n",
       "      <td>0.982618</td>\n",
       "    </tr>\n",
       "    <tr>\n",
       "      <th>total_deaths_lag1</th>\n",
       "      <td>0.985699</td>\n",
       "      <td>0.742266</td>\n",
       "      <td>0.680348</td>\n",
       "      <td>0.998647</td>\n",
       "      <td>0.668050</td>\n",
       "      <td>0.660024</td>\n",
       "      <td>0.672832</td>\n",
       "      <td>0.106030</td>\n",
       "      <td>0.156317</td>\n",
       "      <td>-0.010556</td>\n",
       "      <td>-0.325054</td>\n",
       "      <td>-0.388034</td>\n",
       "      <td>-0.261299</td>\n",
       "      <td>0.285084</td>\n",
       "      <td>0.324702</td>\n",
       "      <td>0.108111</td>\n",
       "      <td>0.105671</td>\n",
       "      <td>0.101533</td>\n",
       "      <td>0.100341</td>\n",
       "      <td>0.101459</td>\n",
       "      <td>0.982974</td>\n",
       "      <td>0.977825</td>\n",
       "      <td>1.000000</td>\n",
       "      <td>0.998613</td>\n",
       "    </tr>\n",
       "    <tr>\n",
       "      <th>total_deaths_lag2</th>\n",
       "      <td>0.986382</td>\n",
       "      <td>0.736626</td>\n",
       "      <td>0.673357</td>\n",
       "      <td>0.995180</td>\n",
       "      <td>0.648733</td>\n",
       "      <td>0.651238</td>\n",
       "      <td>0.647972</td>\n",
       "      <td>0.105984</td>\n",
       "      <td>0.159375</td>\n",
       "      <td>-0.016481</td>\n",
       "      <td>-0.324631</td>\n",
       "      <td>-0.387150</td>\n",
       "      <td>-0.261240</td>\n",
       "      <td>0.278418</td>\n",
       "      <td>0.319823</td>\n",
       "      <td>0.110603</td>\n",
       "      <td>0.109491</td>\n",
       "      <td>0.103477</td>\n",
       "      <td>0.099851</td>\n",
       "      <td>0.099980</td>\n",
       "      <td>0.984859</td>\n",
       "      <td>0.982618</td>\n",
       "      <td>0.998613</td>\n",
       "      <td>1.000000</td>\n",
       "    </tr>\n",
       "  </tbody>\n",
       "</table>\n",
       "</div>"
      ],
      "text/plain": [
       "                    total_cases  new_cases  new_cases_smoothed  total_deaths  \\\n",
       "total_cases            1.000000   0.731918            0.675118      0.983190   \n",
       "new_cases              0.731918   1.000000            0.916267      0.760064   \n",
       "new_cases_smoothed     0.675118   0.916267            1.000000      0.698959   \n",
       "total_deaths           0.983190   0.760064            0.698959      1.000000   \n",
       "new_deaths             0.646423   0.857942            0.748111      0.698337   \n",
       "positive_rate          0.633434   0.829708            0.856726      0.679986   \n",
       "stringency_index       0.595817   0.700117            0.629771      0.699750   \n",
       "cci                    0.094413   0.045618            0.045807      0.104197   \n",
       "cci_cur                0.152775   0.074558            0.070557      0.151590   \n",
       "cci_exp               -0.035227  -0.018546           -0.010404     -0.006539   \n",
       "umsent                -0.329655  -0.279644           -0.248900     -0.326883   \n",
       "umsent_cur            -0.387146  -0.328161           -0.292073     -0.390106   \n",
       "umsent_exp            -0.269706  -0.228921           -0.203722     -0.262853   \n",
       "ism_man                0.253471   0.244688            0.229843      0.289170   \n",
       "ism_non                0.280734   0.237940            0.208248      0.325448   \n",
       "cci_lag1               0.098416   0.060226            0.059576      0.104871   \n",
       "cci_lag2               0.100656   0.080145            0.072448      0.104026   \n",
       "cci_lag3               0.099427   0.084317            0.073124      0.102212   \n",
       "cci_lag4               0.098822   0.081383            0.070697      0.102017   \n",
       "cci_lag5               0.099753   0.089600            0.077625      0.103211   \n",
       "total_cases_lag1       0.995610   0.678265            0.613095      0.977683   \n",
       "total_cases_lag2       0.987893   0.667050            0.597711      0.969486   \n",
       "total_deaths_lag1      0.985699   0.742266            0.680348      0.998647   \n",
       "total_deaths_lag2      0.986382   0.736626            0.673357      0.995180   \n",
       "\n",
       "                    new_deaths  positive_rate  stringency_index       cci  \\\n",
       "total_cases           0.646423       0.633434          0.595817  0.094413   \n",
       "new_cases             0.857942       0.829708          0.700117  0.045618   \n",
       "new_cases_smoothed    0.748111       0.856726          0.629771  0.045807   \n",
       "total_deaths          0.698337       0.679986          0.699750  0.104197   \n",
       "new_deaths            1.000000       0.780809          0.842179  0.041404   \n",
       "positive_rate         0.780809       1.000000          0.815777  0.029913   \n",
       "stringency_index      0.842179       0.815777          1.000000  0.058560   \n",
       "cci                   0.041404       0.029913          0.058560  1.000000   \n",
       "cci_cur               0.042262       0.036349          0.041374  0.964905   \n",
       "cci_exp               0.031403       0.011809          0.079636  0.867310   \n",
       "umsent               -0.262999      -0.293179         -0.264573  0.833912   \n",
       "umsent_cur           -0.316011      -0.347612         -0.327748  0.805629   \n",
       "umsent_exp           -0.210001      -0.237528         -0.204056  0.808655   \n",
       "ism_man               0.223233       0.150051          0.241556  0.228768   \n",
       "ism_non               0.200169       0.120814          0.233188  0.497086   \n",
       "cci_lag1              0.048653       0.066128          0.064402  0.973085   \n",
       "cci_lag2              0.082889       0.098298          0.078727  0.945451   \n",
       "cci_lag3              0.102229       0.105567          0.092404  0.924406   \n",
       "cci_lag4              0.099910       0.110448          0.102061  0.903368   \n",
       "cci_lag5              0.103438       0.123641          0.110610  0.885514   \n",
       "total_cases_lag1      0.597031       0.592931          0.571304  0.096609   \n",
       "total_cases_lag2      0.559952       0.585901          0.549348  0.097056   \n",
       "total_deaths_lag1     0.668050       0.660024          0.672832  0.106030   \n",
       "total_deaths_lag2     0.648733       0.651238          0.647972  0.105984   \n",
       "\n",
       "                     cci_cur   cci_exp    umsent  umsent_cur  umsent_exp  \\\n",
       "total_cases         0.152775 -0.035227 -0.329655   -0.387146   -0.269706   \n",
       "new_cases           0.074558 -0.018546 -0.279644   -0.328161   -0.228921   \n",
       "new_cases_smoothed  0.070557 -0.010404 -0.248900   -0.292073   -0.203722   \n",
       "total_deaths        0.151590 -0.006539 -0.326883   -0.390106   -0.262853   \n",
       "new_deaths          0.042262  0.031403 -0.262999   -0.316011   -0.210001   \n",
       "positive_rate       0.036349  0.011809 -0.293179   -0.347612   -0.237528   \n",
       "stringency_index    0.041374  0.079636 -0.264573   -0.327748   -0.204056   \n",
       "cci                 0.964905  0.867310  0.833912    0.805629    0.808655   \n",
       "cci_cur             1.000000  0.706160  0.740469    0.738266    0.701386   \n",
       "cci_exp             0.706160  1.000000  0.844950    0.772888    0.850914   \n",
       "umsent              0.740469  0.844950  1.000000    0.955842    0.977017   \n",
       "umsent_cur          0.738266  0.772888  0.955842    1.000000    0.871245   \n",
       "umsent_exp          0.701386  0.850914  0.977017    0.871245    1.000000   \n",
       "ism_man             0.104047  0.419530  0.155758    0.167617    0.138570   \n",
       "ism_non             0.399183  0.583720  0.395192    0.415763    0.358607   \n",
       "cci_lag1            0.961758  0.800775  0.798701    0.778003    0.769841   \n",
       "cci_lag2            0.952111  0.744593  0.755536    0.744596    0.721924   \n",
       "cci_lag3            0.941246  0.708455  0.723546    0.721372    0.685308   \n",
       "cci_lag4            0.929963  0.673085  0.696706    0.697647    0.657717   \n",
       "cci_lag5            0.921167  0.641569  0.677450    0.677697    0.640042   \n",
       "total_cases_lag1    0.156324 -0.036028 -0.326269   -0.383472   -0.266735   \n",
       "total_cases_lag2    0.158200 -0.038360 -0.323433   -0.381081   -0.263708   \n",
       "total_deaths_lag1   0.156317 -0.010556 -0.325054   -0.388034   -0.261299   \n",
       "total_deaths_lag2   0.159375 -0.016481 -0.324631   -0.387150   -0.261240   \n",
       "\n",
       "                     ism_man   ism_non  cci_lag1  cci_lag2  cci_lag3  \\\n",
       "total_cases         0.253471  0.280734  0.098416  0.100656  0.099427   \n",
       "new_cases           0.244688  0.237940  0.060226  0.080145  0.084317   \n",
       "new_cases_smoothed  0.229843  0.208248  0.059576  0.072448  0.073124   \n",
       "total_deaths        0.289170  0.325448  0.104871  0.104026  0.102212   \n",
       "new_deaths          0.223233  0.200169  0.048653  0.082889  0.102229   \n",
       "positive_rate       0.150051  0.120814  0.066128  0.098298  0.105567   \n",
       "stringency_index    0.241556  0.233188  0.064402  0.078727  0.092404   \n",
       "cci                 0.228768  0.497086  0.973085  0.945451  0.924406   \n",
       "cci_cur             0.104047  0.399183  0.961758  0.952111  0.941246   \n",
       "cci_exp             0.419530  0.583720  0.800775  0.744593  0.708455   \n",
       "umsent              0.155758  0.395192  0.798701  0.755536  0.723546   \n",
       "umsent_cur          0.167617  0.415763  0.778003  0.744596  0.721372   \n",
       "umsent_exp          0.138570  0.358607  0.769841  0.721924  0.685308   \n",
       "ism_man             1.000000  0.775959  0.184363  0.135885  0.089721   \n",
       "ism_non             0.775959  1.000000  0.453185  0.399258  0.359653   \n",
       "cci_lag1            0.184363  0.453185  1.000000  0.973234  0.945534   \n",
       "cci_lag2            0.135885  0.399258  0.973234  1.000000  0.973168   \n",
       "cci_lag3            0.089721  0.359653  0.945534  0.973168  1.000000   \n",
       "cci_lag4            0.046132  0.325300  0.924507  0.945518  0.973208   \n",
       "cci_lag5            0.008798  0.294728  0.903491  0.924539  0.945618   \n",
       "total_cases_lag1    0.246001  0.279917  0.100044  0.100522  0.098896   \n",
       "total_cases_lag2    0.237758  0.275414  0.103089  0.102796  0.099065   \n",
       "total_deaths_lag1   0.285084  0.324702  0.108111  0.105671  0.101533   \n",
       "total_deaths_lag2   0.278418  0.319823  0.110603  0.109491  0.103477   \n",
       "\n",
       "                    cci_lag4  cci_lag5  total_cases_lag1  total_cases_lag2  \\\n",
       "total_cases         0.098822  0.099753          0.995610          0.987893   \n",
       "new_cases           0.081383  0.089600          0.678265          0.667050   \n",
       "new_cases_smoothed  0.070697  0.077625          0.613095          0.597711   \n",
       "total_deaths        0.102017  0.103211          0.977683          0.969486   \n",
       "new_deaths          0.099910  0.103438          0.597031          0.559952   \n",
       "positive_rate       0.110448  0.123641          0.592931          0.585901   \n",
       "stringency_index    0.102061  0.110610          0.571304          0.549348   \n",
       "cci                 0.903368  0.885514          0.096609          0.097056   \n",
       "cci_cur             0.929963  0.921167          0.156324          0.158200   \n",
       "cci_exp             0.673085  0.641569         -0.036028         -0.038360   \n",
       "umsent              0.696706  0.677450         -0.326269         -0.323433   \n",
       "umsent_cur          0.697647  0.677697         -0.383472         -0.381081   \n",
       "umsent_exp          0.657717  0.640042         -0.266735         -0.263708   \n",
       "ism_man             0.046132  0.008798          0.246001          0.237758   \n",
       "ism_non             0.325300  0.294728          0.279917          0.275414   \n",
       "cci_lag1            0.924507  0.903491          0.100044          0.103089   \n",
       "cci_lag2            0.945518  0.924539          0.100522          0.102796   \n",
       "cci_lag3            0.973208  0.945618          0.098896          0.099065   \n",
       "cci_lag4            1.000000  0.973256          0.098438          0.098209   \n",
       "cci_lag5            0.973256  1.000000          0.099387          0.099390   \n",
       "total_cases_lag1    0.098438  0.099387          1.000000          0.995025   \n",
       "total_cases_lag2    0.098209  0.099390          0.995025          1.000000   \n",
       "total_deaths_lag1   0.100341  0.101459          0.982974          0.977825   \n",
       "total_deaths_lag2   0.099851  0.099980          0.984859          0.982618   \n",
       "\n",
       "                    total_deaths_lag1  total_deaths_lag2  \n",
       "total_cases                  0.985699           0.986382  \n",
       "new_cases                    0.742266           0.736626  \n",
       "new_cases_smoothed           0.680348           0.673357  \n",
       "total_deaths                 0.998647           0.995180  \n",
       "new_deaths                   0.668050           0.648733  \n",
       "positive_rate                0.660024           0.651238  \n",
       "stringency_index             0.672832           0.647972  \n",
       "cci                          0.106030           0.105984  \n",
       "cci_cur                      0.156317           0.159375  \n",
       "cci_exp                     -0.010556          -0.016481  \n",
       "umsent                      -0.325054          -0.324631  \n",
       "umsent_cur                  -0.388034          -0.387150  \n",
       "umsent_exp                  -0.261299          -0.261240  \n",
       "ism_man                      0.285084           0.278418  \n",
       "ism_non                      0.324702           0.319823  \n",
       "cci_lag1                     0.108111           0.110603  \n",
       "cci_lag2                     0.105671           0.109491  \n",
       "cci_lag3                     0.101533           0.103477  \n",
       "cci_lag4                     0.100341           0.099851  \n",
       "cci_lag5                     0.101459           0.099980  \n",
       "total_cases_lag1             0.982974           0.984859  \n",
       "total_cases_lag2             0.977825           0.982618  \n",
       "total_deaths_lag1            1.000000           0.998613  \n",
       "total_deaths_lag2            0.998613           1.000000  "
      ]
     },
     "execution_count": 148,
     "metadata": {},
     "output_type": "execute_result"
    }
   ],
   "source": [
    "pg = df.corr()\n",
    "# pg = pg.to_csv('resid_q-q_plot.csv', encoding='utf-8')\n",
    "pg"
   ]
  },
  {
   "cell_type": "markdown",
   "id": "ac0b9518-6e12-42fb-82e9-11f2a2b77a7e",
   "metadata": {},
   "source": [
    "How do I read this?"
   ]
  },
  {
   "cell_type": "code",
   "execution_count": 159,
   "id": "6a0258f2-cae2-4d06-b4a4-84a4c5ad1e41",
   "metadata": {},
   "outputs": [
    {
     "name": "stdout",
     "output_type": "stream",
     "text": [
      "eval_env: 1\n"
     ]
    },
    {
     "data": {
      "image/png": "[encoded data removed]",
      "text/plain": [
       "<Figure size 864x576 with 4 Axes>"
      ]
     },
     "metadata": {
      "needs_background": "light"
     },
     "output_type": "display_data"
    }
   ],
   "source": [
    "#define figure size\n",
    "fig =plt.figure(figsize=(12,8))\n",
    "\n",
    "#produce regression plots\n",
    "fig = sm.graphics.plot_regress_exog(mo, 'total_cases', fig=fig)\n"
   ]
  },
  {
   "cell_type": "markdown",
   "id": "b78c5614-1d50-4cce-8d39-fe848fb10e51",
   "metadata": {},
   "source": [
    "- 'Y and Fitted vs X' and 'Residuals vs fitted' -- checks linear assumptions of linearity, normality, constant variance (violated-hetero, makes cone shape), and independence. </br>\n",
    "https://analyse-it.com/docs/user-guide/fit-model/linear/residual-plot"
   ]
  },
  {
   "cell_type": "markdown",
   "id": "846568b4-5409-4e55-aed5-424a968a9dc2",
   "metadata": {},
   "source": [
    "- Partial Regression Plot -- checks inluential points and linearity"
   ]
  },
  {
   "cell_type": "markdown",
   "id": "8e862b98-1f98-43a3-a887-912393ef34cf",
   "metadata": {},
   "source": [
    "- Partial Regression Plot -- checks inluential points, relationship between a regressor and response </br>\n",
    "by taking into account the other independent variables. The line is if x was highly correlated with any </br>\n",
    "of the other independent variables."
   ]
  },
  {
   "cell_type": "markdown",
   "id": "4e394936-9072-499a-93bc-394b05522233",
   "metadata": {},
   "source": [
    "test for heteroskedasticity"
   ]
  },
  {
   "cell_type": "code",
   "execution_count": 167,
   "id": "8e103289-4cff-4112-87bd-a75175733bfa",
   "metadata": {},
   "outputs": [
    {
     "name": "stderr",
     "output_type": "stream",
     "text": [
      "/Users/mauricefreese/opt/anaconda3/lib/python3.9/site-packages/statsmodels/graphics/tsaplots.py:348: FutureWarning: The default method 'yw' can produce PACF values outside of the [-1,1] interval. After 0.13, the default will change tounadjusted Yule-Walker ('ywm'). You can use this method now by setting method='ywm'.\n",
      "  warnings.warn(\n"
     ]
    },
    {
     "data": {
      "image/png": "[encoded data removed]",
      "text/plain": [
       "<Figure size 432x288 with 1 Axes>"
      ]
     },
     "metadata": {
      "needs_background": "light"
     },
     "output_type": "display_data"
    },
    {
     "data": {
      "image/png": "[encoded data removed]",
      "text/plain": [
       "<Figure size 432x288 with 1 Axes>"
      ]
     },
     "metadata": {
      "needs_background": "light"
     },
     "output_type": "display_data"
    }
   ],
   "source": [
    "# can determine order of AR model \n",
    "from statsmodels.graphics.tsaplots import plot_pacf\n",
    "from statsmodels.graphics.tsaplots import plot_acf\n",
    "\n",
    "pacf = plot_pacf(df['cci'], lags=25)\n",
    "acf = plot_acf(df['cci'], lags=25)"
   ]
  },
  {
   "cell_type": "code",
   "execution_count": 101,
   "id": "06ff4eba-f93e-4347-86c3-adc63bd032b1",
   "metadata": {},
   "outputs": [
    {
     "data": {
      "image/png": "[encoded data removed]",
      "text/plain": [
       "<Figure size 720x720 with 1 Axes>"
      ]
     },
     "metadata": {
      "needs_background": "light"
     },
     "output_type": "display_data"
    }
   ],
   "source": [
    "fig = plt.figure(figsize= (10, 10))\n",
    "ax = fig.add_subplot(111)\n",
    "\n",
    "normality_plot, stat = stats.probplot(mo.resid, plot= plt, rvalue= True)\n",
    "ax.set_title(\"Probability plot of model residual's\", fontsize= 20)\n",
    "ax.set\n",
    "\n",
    "plt.show()"
   ]
  },
  {
   "cell_type": "code",
   "execution_count": 102,
   "id": "7b6999b5-8cd4-451d-bef0-ffe14ef0242d",
   "metadata": {},
   "outputs": [
    {
     "data": {
      "image/png": "[encoded data removed]",
      "text/plain": [
       "<Figure size 432x288 with 1 Axes>"
      ]
     },
     "metadata": {
      "needs_background": "light"
     },
     "output_type": "display_data"
    }
   ],
   "source": [
    "import seaborn as sns\n",
    "sns.histplot(mo.resid);"
   ]
  },
  {
   "cell_type": "code",
   "execution_count": 103,
   "id": "4d640fd4-c556-4954-83bf-0e04f94aee2e",
   "metadata": {},
   "outputs": [
    {
     "data": {
      "text/plain": [
       "(5.0401164723249776e-14, 6.290935504613382)"
      ]
     },
     "execution_count": 103,
     "metadata": {},
     "output_type": "execute_result"
    }
   ],
   "source": [
    "mu, std = stats.norm.fit(mo.resid)\n",
    "mu, std"
   ]
  },
  {
   "cell_type": "code",
   "execution_count": 105,
   "id": "181634b9-2312-4b6f-bcd4-a88a1f7ab235",
   "metadata": {},
   "outputs": [
    {
     "data": {
      "image/png": "[encoded data removed]",
      "text/plain": [
       "<Figure size 432x288 with 1 Axes>"
      ]
     },
     "metadata": {
      "needs_background": "light"
     },
     "output_type": "display_data"
    }
   ],
   "source": [
    "fig, ax = plt.subplots()\n",
    "# plot the residuals\n",
    "sns.histplot(x=mo.resid, ax=ax, stat=\"density\", linewidth=0, kde=True)\n",
    "ax.set(title=\"Distribution of residuals\", xlabel=\"residual\")\n",
    "\n",
    "# plot corresponding normal curve\n",
    "xmin, xmax = plt.xlim() # the maximum x values from the histogram above\n",
    "x = np.linspace(xmin, xmax, 100) # generate some x values\n",
    "p = stats.norm.pdf(x, mu, std) # calculate the y values for the normal curve\n",
    "sns.lineplot(x=x, y=p, color=\"orange\", ax=ax)\n",
    "plt.show()"
   ]
  },
  {
   "cell_type": "code",
   "execution_count": 108,
   "id": "dd005f28-ac4e-4ee6-8717-955ce8b3262a",
   "metadata": {},
   "outputs": [
    {
     "data": {
      "image/png": "[encoded data removed]",
      "text/plain": [
       "<Figure size 432x288 with 1 Axes>"
      ]
     },
     "metadata": {
      "needs_background": "light"
     },
     "output_type": "display_data"
    }
   ],
   "source": [
    "mo.fittedvalues\n",
    "Y_max = y.max()\n",
    "Y_min = x.min()\n",
    "\n",
    "ax = sns.scatterplot(x=mo.fittedvalues, y=y)\n",
    "ax.set(ylim=(Y_min, Y_max))\n",
    "ax.set(xlim=(Y_min, Y_max))\n",
    "ax.set_xlabel(\"Predicted value of CCI\")\n",
    "ax.set_ylabel(\"Observed value of CCI\")\n",
    "\n",
    "X_ref = Y_ref = np.linspace(Y_min, Y_max, 100)\n",
    "plt.plot(X_ref, Y_ref, color='red', linewidth=1)\n",
    "plt.show()"
   ]
  },
  {
   "cell_type": "code",
   "execution_count": 117,
   "id": "53315a29-3d9f-47f2-a063-0d4f62e2ded4",
   "metadata": {},
   "outputs": [
    {
     "data": {
      "text/plain": [
       "<seaborn.axisgrid.PairGrid at 0x7fa9c3012100>"
      ]
     },
     "execution_count": 117,
     "metadata": {},
     "output_type": "execute_result"
    },
    {
     "data": {
      "image/png": "[encoded data removed]",
      "text/plain": [
       "<Figure size 720x720 with 20 Axes>"
      ]
     },
     "metadata": {
      "needs_background": "light"
     },
     "output_type": "display_data"
    }
   ],
   "source": [
    "sns.pairplot(x)\n"
   ]
  },
  {
   "cell_type": "code",
   "execution_count": 122,
   "id": "5382f9c6-5b18-48f8-83e2-38654aaba018",
   "metadata": {},
   "outputs": [
    {
     "data": {
      "text/html": [
       "<div>\n",
       "<style scoped>\n",
       "    .dataframe tbody tr th:only-of-type {\n",
       "        vertical-align: middle;\n",
       "    }\n",
       "\n",
       "    .dataframe tbody tr th {\n",
       "        vertical-align: top;\n",
       "    }\n",
       "\n",
       "    .dataframe thead th {\n",
       "        text-align: right;\n",
       "    }\n",
       "</style>\n",
       "<table border=\"1\" class=\"dataframe\">\n",
       "  <thead>\n",
       "    <tr style=\"text-align: right;\">\n",
       "      <th></th>\n",
       "      <th>const</th>\n",
       "      <th>total_cases</th>\n",
       "      <th>cci_lag5</th>\n",
       "      <th>umsent</th>\n",
       "    </tr>\n",
       "  </thead>\n",
       "  <tbody>\n",
       "    <tr>\n",
       "      <th>const</th>\n",
       "      <td>NaN</td>\n",
       "      <td>NaN</td>\n",
       "      <td>NaN</td>\n",
       "      <td>NaN</td>\n",
       "    </tr>\n",
       "    <tr>\n",
       "      <th>total_cases</th>\n",
       "      <td>NaN</td>\n",
       "      <td>1.00</td>\n",
       "      <td>0.100</td>\n",
       "      <td>-0.330</td>\n",
       "    </tr>\n",
       "    <tr>\n",
       "      <th>cci_lag5</th>\n",
       "      <td>NaN</td>\n",
       "      <td>0.10</td>\n",
       "      <td>1.000</td>\n",
       "      <td>0.677</td>\n",
       "    </tr>\n",
       "    <tr>\n",
       "      <th>umsent</th>\n",
       "      <td>NaN</td>\n",
       "      <td>-0.33</td>\n",
       "      <td>0.677</td>\n",
       "      <td>1.000</td>\n",
       "    </tr>\n",
       "  </tbody>\n",
       "</table>\n",
       "</div>"
      ],
      "text/plain": [
       "             const  total_cases  cci_lag5  umsent\n",
       "const          NaN          NaN       NaN     NaN\n",
       "total_cases    NaN         1.00     0.100  -0.330\n",
       "cci_lag5       NaN         0.10     1.000   0.677\n",
       "umsent         NaN        -0.33     0.677   1.000"
      ]
     },
     "execution_count": 122,
     "metadata": {},
     "output_type": "execute_result"
    }
   ],
   "source": [
    "# correlation of model \n",
    "round(x.corr(),3)"
   ]
  },
  {
   "cell_type": "code",
   "execution_count": 128,
   "id": "b565abad-5f9a-4c72-a3a3-2bf6a5724639",
   "metadata": {
    "collapsed": true,
    "jupyter": {
     "outputs_hidden": true
    },
    "tags": []
   },
   "outputs": [
    {
     "ename": "ValueError",
     "evalue": "Found input variables with inconsistent numbers of samples: [3, 300]",
     "output_type": "error",
     "traceback": [
      "\u001b[0;31m---------------------------------------------------------------------------\u001b[0m",
      "\u001b[0;31mValueError\u001b[0m                                Traceback (most recent call last)",
      "Input \u001b[0;32mIn [128]\u001b[0m, in \u001b[0;36m<cell line: 9>\u001b[0;34m()\u001b[0m\n\u001b[1;32m      6\u001b[0m pls \u001b[38;5;241m=\u001b[39m PLSRegression(n_components\u001b[38;5;241m=\u001b[39m\u001b[38;5;241m5\u001b[39m)\n\u001b[1;32m      8\u001b[0m \u001b[38;5;66;03m# Fit\u001b[39;00m\n\u001b[0;32m----> 9\u001b[0m \u001b[43mpls\u001b[49m\u001b[38;5;241;43m.\u001b[39;49m\u001b[43mfit\u001b[49m\u001b[43m(\u001b[49m\u001b[43mx_columns\u001b[49m\u001b[43m,\u001b[49m\u001b[43m \u001b[49m\u001b[43my\u001b[49m\u001b[43m)\u001b[49m\n\u001b[1;32m     11\u001b[0m \u001b[38;5;66;03m# Cross-validation\u001b[39;00m\n\u001b[1;32m     12\u001b[0m y_cv \u001b[38;5;241m=\u001b[39m cross_val_predict(pls, x_columns, y, cv\u001b[38;5;241m=\u001b[39m\u001b[38;5;241m10\u001b[39m)\n",
      "File \u001b[0;32m~/opt/anaconda3/lib/python3.9/site-packages/sklearn/cross_decomposition/_pls.py:211\u001b[0m, in \u001b[0;36m_PLS.fit\u001b[0;34m(self, X, Y)\u001b[0m\n\u001b[1;32m    192\u001b[0m \u001b[38;5;28;01mdef\u001b[39;00m \u001b[38;5;21mfit\u001b[39m(\u001b[38;5;28mself\u001b[39m, X, Y):\n\u001b[1;32m    193\u001b[0m     \u001b[38;5;124;03m\"\"\"Fit model to data.\u001b[39;00m\n\u001b[1;32m    194\u001b[0m \n\u001b[1;32m    195\u001b[0m \u001b[38;5;124;03m    Parameters\u001b[39;00m\n\u001b[0;32m   (...)\u001b[0m\n\u001b[1;32m    208\u001b[0m \u001b[38;5;124;03m        Fitted model.\u001b[39;00m\n\u001b[1;32m    209\u001b[0m \u001b[38;5;124;03m    \"\"\"\u001b[39;00m\n\u001b[0;32m--> 211\u001b[0m     \u001b[43mcheck_consistent_length\u001b[49m\u001b[43m(\u001b[49m\u001b[43mX\u001b[49m\u001b[43m,\u001b[49m\u001b[43m \u001b[49m\u001b[43mY\u001b[49m\u001b[43m)\u001b[49m\n\u001b[1;32m    212\u001b[0m     X \u001b[38;5;241m=\u001b[39m \u001b[38;5;28mself\u001b[39m\u001b[38;5;241m.\u001b[39m_validate_data(\n\u001b[1;32m    213\u001b[0m         X, dtype\u001b[38;5;241m=\u001b[39mnp\u001b[38;5;241m.\u001b[39mfloat64, copy\u001b[38;5;241m=\u001b[39m\u001b[38;5;28mself\u001b[39m\u001b[38;5;241m.\u001b[39mcopy, ensure_min_samples\u001b[38;5;241m=\u001b[39m\u001b[38;5;241m2\u001b[39m\n\u001b[1;32m    214\u001b[0m     )\n\u001b[1;32m    215\u001b[0m     Y \u001b[38;5;241m=\u001b[39m check_array(Y, dtype\u001b[38;5;241m=\u001b[39mnp\u001b[38;5;241m.\u001b[39mfloat64, copy\u001b[38;5;241m=\u001b[39m\u001b[38;5;28mself\u001b[39m\u001b[38;5;241m.\u001b[39mcopy, ensure_2d\u001b[38;5;241m=\u001b[39m\u001b[38;5;28;01mFalse\u001b[39;00m)\n",
      "File \u001b[0;32m~/opt/anaconda3/lib/python3.9/site-packages/sklearn/utils/validation.py:332\u001b[0m, in \u001b[0;36mcheck_consistent_length\u001b[0;34m(*arrays)\u001b[0m\n\u001b[1;32m    330\u001b[0m uniques \u001b[38;5;241m=\u001b[39m np\u001b[38;5;241m.\u001b[39munique(lengths)\n\u001b[1;32m    331\u001b[0m \u001b[38;5;28;01mif\u001b[39;00m \u001b[38;5;28mlen\u001b[39m(uniques) \u001b[38;5;241m>\u001b[39m \u001b[38;5;241m1\u001b[39m:\n\u001b[0;32m--> 332\u001b[0m     \u001b[38;5;28;01mraise\u001b[39;00m \u001b[38;5;167;01mValueError\u001b[39;00m(\n\u001b[1;32m    333\u001b[0m         \u001b[38;5;124m\"\u001b[39m\u001b[38;5;124mFound input variables with inconsistent numbers of samples: \u001b[39m\u001b[38;5;132;01m%r\u001b[39;00m\u001b[38;5;124m\"\u001b[39m\n\u001b[1;32m    334\u001b[0m         \u001b[38;5;241m%\u001b[39m [\u001b[38;5;28mint\u001b[39m(l) \u001b[38;5;28;01mfor\u001b[39;00m l \u001b[38;5;129;01min\u001b[39;00m lengths]\n\u001b[1;32m    335\u001b[0m     )\n",
      "\u001b[0;31mValueError\u001b[0m: Found input variables with inconsistent numbers of samples: [3, 300]"
     ]
    }
   ],
   "source": [
    "from sklearn.cross_decomposition import PLSRegression\n",
    "from sklearn.metrics import mean_squared_error, r2_score\n",
    "from sklearn.model_selection import cross_val_predict\n",
    " \n",
    "# Define PLS object\n",
    "pls = PLSRegression(n_components=5)\n",
    " \n",
    "# Fit\n",
    "pls.fit(x_columns, y)\n",
    " \n",
    "# Cross-validation\n",
    "y_cv = cross_val_predict(pls, x_columns, y, cv=10)\n",
    " \n",
    "# Calculate scores\n",
    "score = r2_score(y, y_cv)\n",
    "mse = mean_squared_error(y, y_cv)"
   ]
  },
  {
   "cell_type": "code",
   "execution_count": null,
   "id": "1970fc9c-e639-4a78-84cb-bd7e451f9220",
   "metadata": {},
   "outputs": [],
   "source": []
  }
 ],
 "metadata": {
  "kernelspec": {
   "display_name": "Python 3 (ipykernel)",
   "language": "python",
   "name": "python3"
  },
  "language_info": {
   "codemirror_mode": {
    "name": "ipython",
    "version": 3
   },
   "file_extension": ".py",
   "mimetype": "text/x-python",
   "name": "python",
   "nbconvert_exporter": "python",
   "pygments_lexer": "ipython3",
   "version": "3.9.12"
  },
  "widgets": {
   "application/vnd.jupyter.widget-state+json": {
    "state": {},
    "version_major": 2,
    "version_minor": 0
   }
  }
 },
 "nbformat": 4,
 "nbformat_minor": 5
}
