{
 "cells": [
  {
   "cell_type": "markdown",
   "id": "e20bbb6e-73e0-4994-bc92-ae80bffa12c8",
   "metadata": {},
   "source": [
    "# Panda's for tables and non-data parsing "
   ]
  },
  {
   "cell_type": "raw",
   "id": "ff87052c-8883-4495-82f5-89a0b304a8f3",
   "metadata": {},
   "source": [
    "Make text ITALIC: *Italic*\n",
    "Make text BOLD: **Bold**\n",
    "List item as a bullet: dash and space -\n",
    "List item as a number: Simple as number and dot 1.\n",
    "Indenting text: Greater than and space >\n",
    "Inline code span: Back quotation mark \" ` \"\n",
    "Block of code: Triple back quotation marks \" ``` \"\n",
    "Link a section: [Title of Section](#title-of-section)\n",
    "Hyperlink: [Text](URL)"
   ]
  },
  {
   "cell_type": "markdown",
   "id": "94b75c01-5860-4543-b6fc-0a37b6d3c742",
   "metadata": {},
   "source": [
    "https://stackabuse.com/reading-and-writing-html-tables-with-pandas/\n",
    "https://realpython.com/python-csv/"
   ]
  },
  {
   "cell_type": "markdown",
   "id": "60f46398-ea97-43ce-86be-80a951272c02",
   "metadata": {},
   "source": [
    "Using HTML, one of the standard languages in web development, we are going to look at the native `<table>` element. In this presentation, we are going to look at reading dataframes using pandas with HTML data from a URL and then from a file and then we are going to write a dataframes using HTML style."
   ]
  },
  {
   "cell_type": "markdown",
   "id": "1882f7c3-e983-4d8c-80fa-84b0f4522c3e",
   "metadata": {},
   "source": [
    "## Making a Table from a URL"
   ]
  },
  {
   "cell_type": "markdown",
   "id": "0065a81b-62d8-490f-b37e-a65b70c937fd",
   "metadata": {},
   "source": [
    "*    Title: Reading and Writing HTML Tables with Pandas\n",
    "*    Author: Naazneen Jatu\n",
    "*    Date: Last Updated: September 19th, 2021\n",
    "*    Code version: Python 3.x\n",
    "*    Availability: https://stackabuse.com/reading-and-writing-html-tables-with-pandas"
   ]
  },
  {
   "cell_type": "code",
   "execution_count": 4,
   "id": "8d22e6d8-ae31-4190-b5a8-1c1782cd130a",
   "metadata": {},
   "outputs": [],
   "source": [
    "# libraries\n",
    "\n",
    "import pandas as pd\n"
   ]
  },
  {
   "cell_type": "markdown",
   "id": "6cbe25dd-3f6a-4397-960c-e242a6a42c7d",
   "metadata": {},
   "source": [
    "In order to read the HTML `<table` element from a website and turn it into a dataframe in Pandas, we will need to use a familiar Pandas function to read the html URL. As we remember when working with [CSV files](https://realpython.com/python-csv/), they had functions `pd.read_csv()` and `pd.to_csv()`. In this case we will use `pd.read_html()` and `pd.to_html()` to manipulate our data frames."
   ]
  },
  {
   "cell_type": "markdown",
   "id": "00926d05-5d74-46bc-beea-56fca0fc1a50",
   "metadata": {},
   "source": [
    "The data used in the presentation today is the Defensive Stats per team for the 2021 season from [The National Football League](https://www.nfl.com/stats/team-stats/defense/passing/2021/reg/all)."
   ]
  },
  {
   "cell_type": "code",
   "execution_count": 16,
   "id": "e154347d-98c2-4a68-b494-157c9fc30879",
   "metadata": {},
   "outputs": [
    {
     "name": "stdout",
     "output_type": "stream",
     "text": [
      "Tables Recovered: 1\n",
      "                   Team  Att  Cmp  Cmp %  Yds/Att   Yds  TD  INT  1st  1st%  \\\n",
      "0  BuccaneersBuccaneers  680  445   65.4      6.0  4062  26   17  214  31.5   \n",
      "1          ChiefsChiefs  610  401   65.7      7.0  4273  27   15  209  34.3   \n",
      "2      ChargersChargers  559  357   63.9      6.7  3761  27   11  199  35.6   \n",
      "3      SteelersSteelers  563  355   63.1      6.5  3656  24   13  186  33.0   \n",
      "4            BillsBills  530  297   56.0      5.2  2771  12   19  138  26.0   \n",
      "\n",
      "   Sck  \n",
      "0   47  \n",
      "1   31  \n",
      "2   35  \n",
      "3   55  \n",
      "4   42  \n"
     ]
    }
   ],
   "source": [
    "# credit given above\n",
    "\n",
    "table = pd.read_html('https://www.nfl.com/stats/team-stats/defense/passing/2021/reg/all')\n",
    "print('Tables Recovered:', len(table)) # Confirm what we see with out output\n",
    "df = table[0] # This will save the first recovered table as df\n",
    "print(df.head()) # Prints the first five rows"
   ]
  },
  {
   "cell_type": "code",
   "execution_count": 18,
   "id": "ff6fdd9d-a209-4789-be38-944225bb8c32",
   "metadata": {},
   "outputs": [
    {
     "name": "stdout",
     "output_type": "stream",
     "text": [
      "                   Team  Att  Cmp  Cmp %  Yds/Att   Yds  TD  INT  1st  1st%  \\\n",
      "0  BuccaneersBuccaneers  680  445   65.4      6.0  4062  26   17  214  31.5   \n",
      "1          ChiefsChiefs  610  401   65.7      7.0  4273  27   15  209  34.3   \n",
      "2      ChargersChargers  559  357   63.9      6.7  3761  27   11  199  35.6   \n",
      "3      SteelersSteelers  563  355   63.1      6.5  3656  24   13  186  33.0   \n",
      "4            BillsBills  530  297   56.0      5.2  2771  12   19  138  26.0   \n",
      "5        CowboysCowboys  612  364   59.5      6.6  4049  24   26  191  31.2   \n",
      "6        RaidersRaiders  606  400   66.0      6.2  3789  29    6  202  33.3   \n",
      "7      DolphinsDolphins  608  373   61.4      6.4  3871  23   14  199  32.7   \n",
      "8          RavensRavens  621  397   63.9      7.6  4742  31    9  232  37.4   \n",
      "9              RamsRams  625  416   66.6      6.6  4109  17   19  214  34.2   \n",
      "\n",
      "   Sck  \n",
      "0   47  \n",
      "1   31  \n",
      "2   35  \n",
      "3   55  \n",
      "4   42  \n",
      "5   41  \n",
      "6   35  \n",
      "7   48  \n",
      "8   34  \n",
      "9   50  \n"
     ]
    }
   ],
   "source": [
    "print(df.head(10)) # This prints the first ten rows"
   ]
  },
  {
   "cell_type": "markdown",
   "id": "5c3cf000-00eb-43e3-8c44-0658d1896394",
   "metadata": {},
   "source": [
    "But we can replace this with any number that is equal to or less than our index of total rows. So if we ask Pandas to print more than the amount of rows, it will just print the number of rows in the table."
   ]
  },
  {
   "cell_type": "markdown",
   "id": "6027b2ec-6b02-452d-bdc3-383ce67ac9a3",
   "metadata": {},
   "source": [
    "https://www.nfl.com/stats/team-stats/defense/passing/2021/reg/all"
   ]
  },
  {
   "cell_type": "code",
   "execution_count": 19,
   "id": "9e36fa0e-f01f-4f90-81be-b14af3847fef",
   "metadata": {},
   "outputs": [],
   "source": [
    "# It is easy now export to a csv file to use in a project\n",
    "dfto_csv = df.to_csv('2021NFL_Defense.csv',encoding='utf-8', sep=',')"
   ]
  },
  {
   "cell_type": "markdown",
   "id": "0ad84ab6-2bd6-4492-a9b6-dc8f2c8e185e",
   "metadata": {},
   "source": [
    "## Making a Table from a HTML File"
   ]
  },
  {
   "cell_type": "markdown",
   "id": "b5ba5c18-a342-4749-afbe-de17bf8b98d5",
   "metadata": {},
   "source": [
    "In order to make a dataframe from an HTML file I am going to goto the Chrome inspect and copy the table elements and make it into a HTML file."
   ]
  },
  {
   "cell_type": "markdown",
   "id": "f002f82c-f1dc-41f1-881c-ca629c08a0f3",
   "metadata": {},
   "source": [
    "First we need download a python library to read the HTML, so we pip install [LXML](https://lxml.de/)"
   ]
  },
  {
   "cell_type": "code",
   "execution_count": 21,
   "id": "ee9d7aa2-b3e8-4682-bbd8-b45b6504599a",
   "metadata": {},
   "outputs": [
    {
     "name": "stdout",
     "output_type": "stream",
     "text": [
      "Requirement already satisfied: lxml in /Users/mauricefreese/opt/anaconda3/lib/python3.9/site-packages (4.8.0)\n"
     ]
    }
   ],
   "source": [
    "! pip install lxml"
   ]
  },
  {
   "cell_type": "markdown",
   "id": "5f93d82a-5ccc-431f-9db6-30bc38614ed0",
   "metadata": {},
   "source": [
    "Then we need to copy source code from the browsers 'inspect' in the developer tools and I am going to find the table element and copy it to VSCODE (my code-editor of choice) and going to save it as a html. You can make your own table in html using this [layout](https://www.w3schools.com/html/html_tables.asp)... TAKE NOTE OF THIS LINK."
   ]
  },
  {
   "cell_type": "code",
   "execution_count": 40,
   "id": "62bda022-9d78-47df-82b4-7c6cce56a721",
   "metadata": {},
   "outputs": [
    {
     "name": "stdout",
     "output_type": "stream",
     "text": [
      "Tables Recovered: 2\n",
      "             Team  Att  Cmp  Cmp %  Yds/Att   Yds  TD  INT  1st  1st%  Sck\n",
      "0           49ers  545  372   68.3      6.4  3510  25    9  180  33.0   48\n",
      "1           Bears  477  314   65.8      6.8  3257  31    8  170  35.6   49\n",
      "2         Bengals  626  420   67.1      6.7  4222  26   13  213  34.0   42\n",
      "3           Bills  530  297   56.0      5.2  2771  12   19  138  26.0   42\n",
      "4         Broncos  562  341   60.7      6.5  3652  22   13  192  34.2   36\n",
      "5          Browns  576  367   63.7      6.0  3439  29   13  184  31.9   43\n",
      "6      Buccaneers  680  445   65.4      6.0  4062  26   17  214  31.5   47\n",
      "7       Cardinals  561  367   65.4      6.5  3645  30   13  192  34.2   41\n",
      "8        Chargers  559  357   63.9      6.7  3761  27   11  199  35.6   35\n",
      "9          Chiefs  610  401   65.7      7.0  4273  27   15  209  34.3   31\n",
      "10          Colts  597  390   65.3      6.7  3980  32   19  213  35.7   33\n",
      "11        Cowboys  612  364   59.5      6.6  4049  24   26  191  31.2   41\n",
      "12       Dolphins  608  373   61.4      6.4  3871  23   14  199  32.7   48\n",
      "13         Eagles  589  409   69.4      6.4  3756  28   12  208  35.3   29\n",
      "14        Falcons  577  391   67.8      6.8  3952  31   12  214  37.1   18\n",
      "15  Football Team  597  400   67.0      7.3  4333  34   11  220  36.8   38\n",
      "16         Giants  611  402   65.8      6.3  3839  27   15  216  35.4   34\n",
      "17        Jaguars  543  377   69.4      7.1  3875  24    7  198  36.5   32\n",
      "18           Jets  587  401   68.3      7.5  4409  28    7  234  39.9   33\n",
      "19          Lions  544  359   66.0      7.6  4160  31   11  211  38.8   30\n",
      "20        Packers  603  379   62.8      6.2  3724  31   18  194  32.2   39\n",
      "21       Panthers  515  337   65.4      6.3  3266  26    9  170  33.0   39\n",
      "22       Patriots  538  319   59.3      5.9  3181  21   23  176  32.7   36\n",
      "23        Raiders  606  400   66.0      6.2  3789  29    6  202  33.3   35\n",
      "24           Rams  625  416   66.6      6.6  4109  17   19  214  34.2   50\n",
      "25         Ravens  621  397   63.9      7.6  4742  31    9  232  37.4   34\n",
      "26         Saints  592  369   62.3      6.4  3821  20   18  185  31.2   46\n",
      "27       Seahawks  658  443   67.3      6.9  4513  24   11  240  36.5   34\n",
      "28       Steelers  563  355   63.1      6.5  3656  24   13  186  33.0   55\n",
      "29         Texans  546  363   66.5      7.5  4117  27   17  218  39.9   32\n",
      "30         Titans  628  395   62.9      6.6  4169  24   16  204  32.5   43\n",
      "31        Vikings  626  401   64.1      6.9  4300  29   16  224  35.8   51\n"
     ]
    }
   ],
   "source": [
    "table2 = pd.read_html('2021NFL_Defense.html')\n",
    "print('Tables Recovered:', len(table2)) # Confirm what we see with out output\n",
    "df_file = table2[0] # This will save the first recovered table as df\n",
    "print(df_file.head(32)) # Prints the first five rows"
   ]
  },
  {
   "cell_type": "markdown",
   "id": "e94702d7-6862-40a8-8c0f-35df0106f270",
   "metadata": {
    "tags": []
   },
   "source": [
    "As you see above the amount of tables recovered is two compared to one in the first one. Due to the html element being embedded with a lot of source code for NFL teams logos, as seen if you click on the html file that is attached. If you wanted to dig through the source code and get rid of all the fancy CSS and formatting in the source code from the site then you an dig threw it and you'd just get the basic table."
   ]
  },
  {
   "cell_type": "markdown",
   "id": "353a44bf-fbd4-447d-a4a2-30f2957e4ad7",
   "metadata": {
    "tags": []
   },
   "source": [
    "### Practice One"
   ]
  },
  {
   "cell_type": "markdown",
   "id": "f9ab0e3c-a45e-4d8b-a0ad-1804f0c9f6f1",
   "metadata": {
    "tags": []
   },
   "source": [
    "Since we just made this HTML table from a HTML file and converted it to a dataframe in Pandas, I am going to need your help in saving it as a CSV."
   ]
  },
  {
   "cell_type": "code",
   "execution_count": 25,
   "id": "ff658ae3-0d70-49fb-b999-4f58ed6cb462",
   "metadata": {
    "tags": []
   },
   "outputs": [],
   "source": [
    "df_filecsv= df.to_csv('HTML2021NFL_Defense.csv',encoding='utf-8', sep=',')"
   ]
  },
  {
   "cell_type": "markdown",
   "id": "d98fbcc0-2eb0-406b-a42f-3c0e0e29bae8",
   "metadata": {
    "tags": []
   },
   "source": [
    "## Writing a HTML table in Pandas"
   ]
  },
  {
   "cell_type": "markdown",
   "id": "1e056d1f-7363-4946-8b26-cab63c902cef",
   "metadata": {},
   "source": [
    "Lets say that we want to look at how often a team's defence was thrown on with a completion and the amount interceptions they earned from these passing attempts."
   ]
  },
  {
   "cell_type": "code",
   "execution_count": 35,
   "id": "eb4211c1-6fcd-4f9c-8eaa-7f5fbdda1d95",
   "metadata": {},
   "outputs": [],
   "source": [
    "df_write = pd.DataFrame({\"Teams\":[\"49ers\", \"Bears\", \"Bengals\", \"Bills\", \"Broncos\"], \n",
    "                         \"Passing Att\":[545,477,626,530,562], \n",
    "                         \"Cmp Pct\":[68.3,65.8,67.1,56.0,60.7], \n",
    "                         \"INT\":[9,8,13,19,13]})\n",
    "df_write.to_html('write2021NFL_Defense.html', index=False)"
   ]
  },
  {
   "cell_type": "code",
   "execution_count": 36,
   "id": "79eb3404-4eaa-4c4f-8fab-b72ce5f4e0cd",
   "metadata": {},
   "outputs": [
    {
     "name": "stdout",
     "output_type": "stream",
     "text": [
      "Tables Recovered: 1\n",
      "     Teams  Passing Att  Cmp Pct  INT\n",
      "0    49ers          545     68.3    9\n",
      "1    Bears          477     65.8    8\n",
      "2  Bengals          626     67.1   13\n",
      "3    Bills          530     56.0   19\n",
      "4  Broncos          562     60.7   13\n"
     ]
    }
   ],
   "source": [
    "table3 = pd.read_html('write2021NFL_Defense.html')\n",
    "print('Tables Recovered:', len(table3)) # Confirm what we see with out output\n",
    "df_wtest = table3[0] # This will save the first recovered table as df\n",
    "print(df_wtest.head(20))"
   ]
  }
 ],
 "metadata": {
  "kernelspec": {
   "display_name": "Python 3 (ipykernel)",
   "language": "python",
   "name": "python3"
  },
  "language_info": {
   "codemirror_mode": {
    "name": "ipython",
    "version": 3
   },
   "file_extension": ".py",
   "mimetype": "text/x-python",
   "name": "python",
   "nbconvert_exporter": "python",
   "pygments_lexer": "ipython3",
   "version": "3.9.12"
  },
  "widgets": {
   "application/vnd.jupyter.widget-state+json": {
    "state": {},
    "version_major": 2,
    "version_minor": 0
   }
  }
 },
 "nbformat": 4,
 "nbformat_minor": 5
}
